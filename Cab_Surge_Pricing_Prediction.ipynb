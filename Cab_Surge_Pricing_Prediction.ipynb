{
  "nbformat": 4,
  "nbformat_minor": 0,
  "metadata": {
    "colab": {
      "name": "Cab Surge Pricing Prediction",
      "provenance": [],
      "collapsed_sections": [],
      "authorship_tag": "ABX9TyOsLmkrWf6snNmG9aJXx66A",
      "include_colab_link": true
    },
    "kernelspec": {
      "name": "python3",
      "display_name": "Python 3"
    },
    "language_info": {
      "name": "python"
    }
  },
  "cells": [
    {
      "cell_type": "markdown",
      "metadata": {
        "id": "view-in-github",
        "colab_type": "text"
      },
      "source": [
        "<a href=\"https://colab.research.google.com/github/avinashthombre/public/blob/master/Cab_Surge_Pricing_Prediction.ipynb\" target=\"_parent\"><img src=\"https://colab.research.google.com/assets/colab-badge.svg\" alt=\"Open In Colab\"/></a>"
      ]
    },
    {
      "cell_type": "markdown",
      "metadata": {
        "id": "6ru7KhijhBW9"
      },
      "source": [
        "# Introduction - Surge Pricing for Cabs \n",
        "\n",
        "Dynamic pricing, also referred to as surge pricing, demand pricing, or time-based pricing is a pricing strategy in which businesses set flexible prices for products or services based on current market demands.\n"
      ]
    },
    {
      "cell_type": "code",
      "metadata": {
        "id": "XouGTkxxXPID"
      },
      "source": [
        "# Importing required libraries\n",
        "import numpy as np # for mathmatical computations on data\n",
        "import pandas as pd # for data cleaning, processing, CSV file I/O (e.g. pd.read_csv)\n",
        "import warnings\n",
        "import seaborn as sns\n",
        "warnings.filterwarnings(\"ignore\")\n",
        "import matplotlib.pylab as plt\n",
        "plt.style.use('fivethirtyeight')\n",
        "from plotly import express as px"
      ],
      "execution_count": 1,
      "outputs": []
    },
    {
      "cell_type": "code",
      "metadata": {
        "id": "-kJB9hrch6Il"
      },
      "source": [
        "# Importing packages for models\n",
        "from sklearn.model_selection import train_test_split\n",
        "from sklearn.linear_model import LogisticRegression\n",
        "from sklearn.metrics import accuracy_score,classification_report,confusion_matrix\n",
        "from sklearn.preprocessing import normalize\n",
        "from sklearn.ensemble import RandomForestClassifier\n",
        "from xgboost import XGBClassifier"
      ],
      "execution_count": 2,
      "outputs": []
    },
    {
      "cell_type": "markdown",
      "metadata": {
        "id": "tU8CcfZRisD7"
      },
      "source": [
        "# Data Import and Description"
      ]
    },
    {
      "cell_type": "code",
      "metadata": {
        "colab": {
          "resources": {
            "http://localhost:8080/nbextensions/google.colab/files.js": {
              "data": "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",
              "ok": true,
              "headers": [
                [
                  "content-type",
                  "application/javascript"
                ]
              ],
              "status": 200,
              "status_text": "OK"
            }
          },
          "base_uri": "https://localhost:8080/",
          "height": 73
        },
        "id": "u4ECaOC7ivdQ",
        "outputId": "2b5f5505-4680-44a4-944f-95f239af86d6"
      },
      "source": [
        "from google.colab import files\n",
        "uploaded = files.upload()"
      ],
      "execution_count": 3,
      "outputs": [
        {
          "output_type": "display_data",
          "data": {
            "text/html": [
              "\n",
              "     <input type=\"file\" id=\"files-dc6fc897-3c19-49a4-a08e-144904fec12e\" name=\"files[]\" multiple disabled\n",
              "        style=\"border:none\" />\n",
              "     <output id=\"result-dc6fc897-3c19-49a4-a08e-144904fec12e\">\n",
              "      Upload widget is only available when the cell has been executed in the\n",
              "      current browser session. Please rerun this cell to enable.\n",
              "      </output>\n",
              "      <script src=\"/nbextensions/google.colab/files.js\"></script> "
            ],
            "text/plain": [
              "<IPython.core.display.HTML object>"
            ]
          },
          "metadata": {}
        },
        {
          "output_type": "stream",
          "name": "stdout",
          "text": [
            "Saving dataset.csv to dataset (2).csv\n"
          ]
        }
      ]
    },
    {
      "cell_type": "code",
      "metadata": {
        "colab": {
          "base_uri": "https://localhost:8080/",
          "height": 226
        },
        "id": "JfzI7G4vjDqg",
        "outputId": "a41748fc-efd2-46a2-9520-9de69f9bf8ef"
      },
      "source": [
        "import io\n",
        "df = pd.read_csv(io.BytesIO(uploaded['dataset.csv']))\n",
        "df.head()"
      ],
      "execution_count": 4,
      "outputs": [
        {
          "output_type": "execute_result",
          "data": {
            "text/html": [
              "<div>\n",
              "<style scoped>\n",
              "    .dataframe tbody tr th:only-of-type {\n",
              "        vertical-align: middle;\n",
              "    }\n",
              "\n",
              "    .dataframe tbody tr th {\n",
              "        vertical-align: top;\n",
              "    }\n",
              "\n",
              "    .dataframe thead th {\n",
              "        text-align: right;\n",
              "    }\n",
              "</style>\n",
              "<table border=\"1\" class=\"dataframe\">\n",
              "  <thead>\n",
              "    <tr style=\"text-align: right;\">\n",
              "      <th></th>\n",
              "      <th>Trip_ID</th>\n",
              "      <th>Trip_Distance</th>\n",
              "      <th>Type_of_Cab</th>\n",
              "      <th>Customer_Since_Months</th>\n",
              "      <th>Life_Style_Index</th>\n",
              "      <th>Confidence_Life_Style_Index</th>\n",
              "      <th>Destination_Type</th>\n",
              "      <th>Customer_Rating</th>\n",
              "      <th>Cancellation_Last_1Month</th>\n",
              "      <th>Var1</th>\n",
              "      <th>Var2</th>\n",
              "      <th>Var3</th>\n",
              "      <th>Gender</th>\n",
              "      <th>Surge_Pricing_Type</th>\n",
              "    </tr>\n",
              "  </thead>\n",
              "  <tbody>\n",
              "    <tr>\n",
              "      <th>0</th>\n",
              "      <td>T0005689461</td>\n",
              "      <td>29.47</td>\n",
              "      <td>B</td>\n",
              "      <td>10.0</td>\n",
              "      <td>2.78245</td>\n",
              "      <td>B</td>\n",
              "      <td>A</td>\n",
              "      <td>3.45000</td>\n",
              "      <td>0</td>\n",
              "      <td>38.0</td>\n",
              "      <td>56</td>\n",
              "      <td>78</td>\n",
              "      <td>Male</td>\n",
              "      <td>2</td>\n",
              "    </tr>\n",
              "    <tr>\n",
              "      <th>1</th>\n",
              "      <td>T0005689464</td>\n",
              "      <td>41.58</td>\n",
              "      <td>NaN</td>\n",
              "      <td>10.0</td>\n",
              "      <td>NaN</td>\n",
              "      <td>NaN</td>\n",
              "      <td>E</td>\n",
              "      <td>3.50125</td>\n",
              "      <td>2</td>\n",
              "      <td>NaN</td>\n",
              "      <td>56</td>\n",
              "      <td>77</td>\n",
              "      <td>Male</td>\n",
              "      <td>2</td>\n",
              "    </tr>\n",
              "    <tr>\n",
              "      <th>2</th>\n",
              "      <td>T0005689465</td>\n",
              "      <td>61.56</td>\n",
              "      <td>C</td>\n",
              "      <td>10.0</td>\n",
              "      <td>NaN</td>\n",
              "      <td>NaN</td>\n",
              "      <td>A</td>\n",
              "      <td>3.45375</td>\n",
              "      <td>0</td>\n",
              "      <td>NaN</td>\n",
              "      <td>52</td>\n",
              "      <td>74</td>\n",
              "      <td>Male</td>\n",
              "      <td>3</td>\n",
              "    </tr>\n",
              "    <tr>\n",
              "      <th>3</th>\n",
              "      <td>T0005689467</td>\n",
              "      <td>54.95</td>\n",
              "      <td>C</td>\n",
              "      <td>10.0</td>\n",
              "      <td>3.03453</td>\n",
              "      <td>B</td>\n",
              "      <td>A</td>\n",
              "      <td>3.40250</td>\n",
              "      <td>4</td>\n",
              "      <td>51.0</td>\n",
              "      <td>49</td>\n",
              "      <td>102</td>\n",
              "      <td>Male</td>\n",
              "      <td>2</td>\n",
              "    </tr>\n",
              "    <tr>\n",
              "      <th>4</th>\n",
              "      <td>T0005689469</td>\n",
              "      <td>19.06</td>\n",
              "      <td>E</td>\n",
              "      <td>10.0</td>\n",
              "      <td>NaN</td>\n",
              "      <td>NaN</td>\n",
              "      <td>A</td>\n",
              "      <td>2.59750</td>\n",
              "      <td>1</td>\n",
              "      <td>72.0</td>\n",
              "      <td>63</td>\n",
              "      <td>91</td>\n",
              "      <td>Male</td>\n",
              "      <td>3</td>\n",
              "    </tr>\n",
              "  </tbody>\n",
              "</table>\n",
              "</div>"
            ],
            "text/plain": [
              "       Trip_ID  Trip_Distance Type_of_Cab  ...  Var3  Gender Surge_Pricing_Type\n",
              "0  T0005689461          29.47           B  ...    78    Male                  2\n",
              "1  T0005689464          41.58         NaN  ...    77    Male                  2\n",
              "2  T0005689465          61.56           C  ...    74    Male                  3\n",
              "3  T0005689467          54.95           C  ...   102    Male                  2\n",
              "4  T0005689469          19.06           E  ...    91    Male                  3\n",
              "\n",
              "[5 rows x 14 columns]"
            ]
          },
          "metadata": {},
          "execution_count": 4
        }
      ]
    },
    {
      "cell_type": "code",
      "metadata": {
        "colab": {
          "base_uri": "https://localhost:8080/"
        },
        "id": "A8uSSExijuZc",
        "outputId": "91ced49e-9d42-4aef-ac7d-54843c7c6566"
      },
      "source": [
        "df.info()"
      ],
      "execution_count": 5,
      "outputs": [
        {
          "output_type": "stream",
          "name": "stdout",
          "text": [
            "<class 'pandas.core.frame.DataFrame'>\n",
            "RangeIndex: 109522 entries, 0 to 109521\n",
            "Data columns (total 14 columns):\n",
            " #   Column                       Non-Null Count   Dtype  \n",
            "---  ------                       --------------   -----  \n",
            " 0   Trip_ID                      109522 non-null  object \n",
            " 1   Trip_Distance                109522 non-null  float64\n",
            " 2   Type_of_Cab                  92757 non-null   object \n",
            " 3   Customer_Since_Months        104619 non-null  float64\n",
            " 4   Life_Style_Index             92672 non-null   float64\n",
            " 5   Confidence_Life_Style_Index  92672 non-null   object \n",
            " 6   Destination_Type             109522 non-null  object \n",
            " 7   Customer_Rating              109522 non-null  float64\n",
            " 8   Cancellation_Last_1Month     109522 non-null  int64  \n",
            " 9   Var1                         50363 non-null   float64\n",
            " 10  Var2                         109522 non-null  int64  \n",
            " 11  Var3                         109522 non-null  int64  \n",
            " 12  Gender                       109522 non-null  object \n",
            " 13  Surge_Pricing_Type           109522 non-null  int64  \n",
            "dtypes: float64(5), int64(4), object(5)\n",
            "memory usage: 11.7+ MB\n"
          ]
        }
      ]
    },
    {
      "cell_type": "code",
      "metadata": {
        "colab": {
          "base_uri": "https://localhost:8080/",
          "height": 320
        },
        "id": "Ka4J0KLbmfWz",
        "outputId": "784e37c8-daa2-4de4-a5dc-97ce9b0b4b08"
      },
      "source": [
        "df.describe()"
      ],
      "execution_count": 6,
      "outputs": [
        {
          "output_type": "execute_result",
          "data": {
            "text/html": [
              "<div>\n",
              "<style scoped>\n",
              "    .dataframe tbody tr th:only-of-type {\n",
              "        vertical-align: middle;\n",
              "    }\n",
              "\n",
              "    .dataframe tbody tr th {\n",
              "        vertical-align: top;\n",
              "    }\n",
              "\n",
              "    .dataframe thead th {\n",
              "        text-align: right;\n",
              "    }\n",
              "</style>\n",
              "<table border=\"1\" class=\"dataframe\">\n",
              "  <thead>\n",
              "    <tr style=\"text-align: right;\">\n",
              "      <th></th>\n",
              "      <th>Trip_Distance</th>\n",
              "      <th>Customer_Since_Months</th>\n",
              "      <th>Life_Style_Index</th>\n",
              "      <th>Customer_Rating</th>\n",
              "      <th>Cancellation_Last_1Month</th>\n",
              "      <th>Var1</th>\n",
              "      <th>Var2</th>\n",
              "      <th>Var3</th>\n",
              "      <th>Surge_Pricing_Type</th>\n",
              "    </tr>\n",
              "  </thead>\n",
              "  <tbody>\n",
              "    <tr>\n",
              "      <th>count</th>\n",
              "      <td>109522.000000</td>\n",
              "      <td>104619.000000</td>\n",
              "      <td>92672.000000</td>\n",
              "      <td>109522.000000</td>\n",
              "      <td>109522.000000</td>\n",
              "      <td>50363.000000</td>\n",
              "      <td>109522.000000</td>\n",
              "      <td>109522.000000</td>\n",
              "      <td>109522.000000</td>\n",
              "    </tr>\n",
              "    <tr>\n",
              "      <th>mean</th>\n",
              "      <td>44.163371</td>\n",
              "      <td>6.020876</td>\n",
              "      <td>2.802270</td>\n",
              "      <td>2.849416</td>\n",
              "      <td>0.782519</td>\n",
              "      <td>64.169251</td>\n",
              "      <td>51.200307</td>\n",
              "      <td>75.088238</td>\n",
              "      <td>2.154928</td>\n",
              "    </tr>\n",
              "    <tr>\n",
              "      <th>std</th>\n",
              "      <td>25.515867</td>\n",
              "      <td>3.625908</td>\n",
              "      <td>0.225523</td>\n",
              "      <td>0.982128</td>\n",
              "      <td>1.036107</td>\n",
              "      <td>21.838095</td>\n",
              "      <td>4.983502</td>\n",
              "      <td>11.582581</td>\n",
              "      <td>0.738416</td>\n",
              "    </tr>\n",
              "    <tr>\n",
              "      <th>min</th>\n",
              "      <td>1.530000</td>\n",
              "      <td>0.000000</td>\n",
              "      <td>1.656960</td>\n",
              "      <td>0.001250</td>\n",
              "      <td>0.000000</td>\n",
              "      <td>30.000000</td>\n",
              "      <td>40.000000</td>\n",
              "      <td>52.000000</td>\n",
              "      <td>1.000000</td>\n",
              "    </tr>\n",
              "    <tr>\n",
              "      <th>25%</th>\n",
              "      <td>24.550000</td>\n",
              "      <td>3.000000</td>\n",
              "      <td>2.654880</td>\n",
              "      <td>2.150000</td>\n",
              "      <td>0.000000</td>\n",
              "      <td>46.000000</td>\n",
              "      <td>48.000000</td>\n",
              "      <td>67.000000</td>\n",
              "      <td>2.000000</td>\n",
              "    </tr>\n",
              "    <tr>\n",
              "      <th>50%</th>\n",
              "      <td>38.190000</td>\n",
              "      <td>6.000000</td>\n",
              "      <td>2.797640</td>\n",
              "      <td>2.895000</td>\n",
              "      <td>0.000000</td>\n",
              "      <td>61.000000</td>\n",
              "      <td>50.000000</td>\n",
              "      <td>74.000000</td>\n",
              "      <td>2.000000</td>\n",
              "    </tr>\n",
              "    <tr>\n",
              "      <th>75%</th>\n",
              "      <td>60.710000</td>\n",
              "      <td>10.000000</td>\n",
              "      <td>2.946798</td>\n",
              "      <td>3.585000</td>\n",
              "      <td>1.000000</td>\n",
              "      <td>80.000000</td>\n",
              "      <td>54.000000</td>\n",
              "      <td>82.000000</td>\n",
              "      <td>3.000000</td>\n",
              "    </tr>\n",
              "    <tr>\n",
              "      <th>max</th>\n",
              "      <td>109.230000</td>\n",
              "      <td>10.000000</td>\n",
              "      <td>4.875110</td>\n",
              "      <td>5.000000</td>\n",
              "      <td>8.000000</td>\n",
              "      <td>210.000000</td>\n",
              "      <td>124.000000</td>\n",
              "      <td>206.000000</td>\n",
              "      <td>3.000000</td>\n",
              "    </tr>\n",
              "  </tbody>\n",
              "</table>\n",
              "</div>"
            ],
            "text/plain": [
              "       Trip_Distance  Customer_Since_Months  ...           Var3  Surge_Pricing_Type\n",
              "count  109522.000000          104619.000000  ...  109522.000000       109522.000000\n",
              "mean       44.163371               6.020876  ...      75.088238            2.154928\n",
              "std        25.515867               3.625908  ...      11.582581            0.738416\n",
              "min         1.530000               0.000000  ...      52.000000            1.000000\n",
              "25%        24.550000               3.000000  ...      67.000000            2.000000\n",
              "50%        38.190000               6.000000  ...      74.000000            2.000000\n",
              "75%        60.710000              10.000000  ...      82.000000            3.000000\n",
              "max       109.230000              10.000000  ...     206.000000            3.000000\n",
              "\n",
              "[8 rows x 9 columns]"
            ]
          },
          "metadata": {},
          "execution_count": 6
        }
      ]
    },
    {
      "cell_type": "code",
      "metadata": {
        "colab": {
          "base_uri": "https://localhost:8080/"
        },
        "id": "YH2cCjXimvFU",
        "outputId": "8a4c62e2-abcc-4979-9ebc-db5ee6d6a98f"
      },
      "source": [
        "df.isnull().sum()"
      ],
      "execution_count": 7,
      "outputs": [
        {
          "output_type": "execute_result",
          "data": {
            "text/plain": [
              "Trip_ID                            0\n",
              "Trip_Distance                      0\n",
              "Type_of_Cab                    16765\n",
              "Customer_Since_Months           4903\n",
              "Life_Style_Index               16850\n",
              "Confidence_Life_Style_Index    16850\n",
              "Destination_Type                   0\n",
              "Customer_Rating                    0\n",
              "Cancellation_Last_1Month           0\n",
              "Var1                           59159\n",
              "Var2                               0\n",
              "Var3                               0\n",
              "Gender                             0\n",
              "Surge_Pricing_Type                 0\n",
              "dtype: int64"
            ]
          },
          "metadata": {},
          "execution_count": 7
        }
      ]
    },
    {
      "cell_type": "code",
      "metadata": {
        "colab": {
          "base_uri": "https://localhost:8080/",
          "height": 278
        },
        "id": "NIi-Lng_mze6",
        "outputId": "d08ba5a1-6942-4280-c709-30b9e9543144"
      },
      "source": [
        "# Plotting the distribution of target variable\n",
        "\n",
        "plt.style.use(\"classic\")\n",
        "plt.figure(figsize=(8, 3))\n",
        "sns.distplot(df['Surge_Pricing_Type'], color='blue')\n",
        "plt.title(f\"Surge Pricing Type Distribution [\\u03BC : {df['Surge_Pricing_Type'].mean():.2f} price | \\u03C3 : {df['Surge_Pricing_Type'].std():.2f} price]\")\n",
        "plt.xlabel(\"Surge Pricing Type\")\n",
        "plt.ylabel(\"Count\")\n",
        "plt.show()"
      ],
      "execution_count": 8,
      "outputs": [
        {
          "output_type": "display_data",
          "data": {
            "image/png": "[encoded data removed]",
            "text/plain": [
              "<Figure size 640x240 with 1 Axes>"
            ]
          },
          "metadata": {}
        }
      ]
    },
    {
      "cell_type": "code",
      "metadata": {
        "colab": {
          "base_uri": "https://localhost:8080/",
          "height": 297
        },
        "id": "08Tv1bzpmzhz",
        "outputId": "6cefe287-f34c-4b5d-fa26-3eeed0a7eae9"
      },
      "source": [
        "# Plotting target variable and gender\n",
        "plt.style.use(\"fivethirtyeight\")\n",
        "plt.figure(figsize=(6, 3))\n",
        "sns.kdeplot(df.loc[df['Gender'] == 'Male', 'Surge_Pricing_Type'], label = 'Male',shade=False)\n",
        "sns.kdeplot(df.loc[df['Gender'] == 'Female', 'Surge_Pricing_Type'], label = 'Female',shade=True)\n",
        "\n",
        "# Labeling of plot\n",
        "plt.xlabel('Surge Pricing Type')\n",
        "plt.ylabel('Density')\n",
        "plt.title('Distribution of Surge Pricing Type for Male and Female Individuals')\n",
        "plt.show()"
      ],
      "execution_count": 9,
      "outputs": [
        {
          "output_type": "display_data",
          "data": {
            "image/png": "[encoded data removed]",
            "text/plain": [
              "<Figure size 480x240 with 1 Axes>"
            ]
          },
          "metadata": {}
        }
      ]
    },
    {
      "cell_type": "code",
      "metadata": {
        "colab": {
          "base_uri": "https://localhost:8080/",
          "height": 559
        },
        "id": "v_m4IAVMmzo_",
        "outputId": "e47a23eb-0dc0-44bc-bc1c-69a0f9e8348a"
      },
      "source": [
        "# Pie Chart to see gender of individuals in surge pricing\n",
        "targets = df['Gender'].value_counts().tolist()\n",
        "values = list(dict(df['Gender'].value_counts()).keys())\n",
        "\n",
        "fig = plt.figure(figsize=(6,3))\n",
        "fig = px.pie(\n",
        "    values=targets, \n",
        "    names=values,\n",
        "    title='Gender of Individuals in Taxi Surge Pricing',\n",
        "    color_discrete_sequence=['red', 'navy']\n",
        ")\n",
        "fig.show()"
      ],
      "execution_count": 10,
      "outputs": [
        {
          "output_type": "display_data",
          "data": {
            "text/html": [
              "<html>\n",
              "<head><meta charset=\"utf-8\" /></head>\n",
              "<body>\n",
              "    <div>\n",
              "            <script src=\"https://cdnjs.cloudflare.com/ajax/libs/mathjax/2.7.5/MathJax.js?config=TeX-AMS-MML_SVG\"></script><script type=\"text/javascript\">if (window.MathJax) {MathJax.Hub.Config({SVG: {font: \"STIX-Web\"}});}</script>\n",
              "                <script type=\"text/javascript\">window.PlotlyConfig = {MathJaxConfig: 'local'};</script>\n",
              "        <script src=\"https://cdn.plot.ly/plotly-latest.min.js\"></script>    \n",
              "            <div id=\"a6181d29-4720-4c7d-a26d-352a2f5aae48\" class=\"plotly-graph-div\" style=\"height:525px; width:100%;\"></div>\n",
              "            <script type=\"text/javascript\">\n",
              "                \n",
              "                    window.PLOTLYENV=window.PLOTLYENV || {};\n",
              "                    \n",
              "                if (document.getElementById(\"a6181d29-4720-4c7d-a26d-352a2f5aae48\")) {\n",
              "                    Plotly.newPlot(\n",
              "                        'a6181d29-4720-4c7d-a26d-352a2f5aae48',\n",
              "                        [{\"domain\": {\"x\": [0.0, 1.0], \"y\": [0.0, 1.0]}, \"hoverlabel\": {\"namelength\": 0}, \"hovertemplate\": \"label=%{label}<br>value=%{value}\", \"labels\": [\"Male\", \"Female\"], \"legendgroup\": \"\", \"name\": \"\", \"showlegend\": true, \"type\": \"pie\", \"values\": [78180, 31342]}],\n",
              "                        {\"legend\": {\"tracegroupgap\": 0}, \"piecolorway\": [\"red\", \"navy\"], \"template\": {\"data\": {\"bar\": [{\"error_x\": {\"color\": \"#2a3f5f\"}, \"error_y\": {\"color\": \"#2a3f5f\"}, \"marker\": {\"line\": {\"color\": \"#E5ECF6\", \"width\": 0.5}}, \"type\": \"bar\"}], \"barpolar\": [{\"marker\": {\"line\": {\"color\": \"#E5ECF6\", \"width\": 0.5}}, \"type\": \"barpolar\"}], \"carpet\": [{\"aaxis\": {\"endlinecolor\": \"#2a3f5f\", \"gridcolor\": \"white\", \"linecolor\": \"white\", \"minorgridcolor\": \"white\", \"startlinecolor\": \"#2a3f5f\"}, \"baxis\": {\"endlinecolor\": \"#2a3f5f\", \"gridcolor\": \"white\", \"linecolor\": \"white\", \"minorgridcolor\": \"white\", \"startlinecolor\": \"#2a3f5f\"}, \"type\": \"carpet\"}], \"choropleth\": [{\"colorbar\": {\"outlinewidth\": 0, \"ticks\": \"\"}, \"type\": \"choropleth\"}], \"contour\": [{\"colorbar\": {\"outlinewidth\": 0, \"ticks\": \"\"}, \"colorscale\": [[0.0, \"#0d0887\"], [0.1111111111111111, \"#46039f\"], [0.2222222222222222, \"#7201a8\"], [0.3333333333333333, \"#9c179e\"], [0.4444444444444444, \"#bd3786\"], [0.5555555555555556, \"#d8576b\"], [0.6666666666666666, \"#ed7953\"], [0.7777777777777778, \"#fb9f3a\"], [0.8888888888888888, \"#fdca26\"], [1.0, \"#f0f921\"]], \"type\": \"contour\"}], \"contourcarpet\": [{\"colorbar\": {\"outlinewidth\": 0, \"ticks\": \"\"}, \"type\": \"contourcarpet\"}], \"heatmap\": [{\"colorbar\": {\"outlinewidth\": 0, \"ticks\": \"\"}, \"colorscale\": [[0.0, \"#0d0887\"], [0.1111111111111111, \"#46039f\"], [0.2222222222222222, \"#7201a8\"], [0.3333333333333333, \"#9c179e\"], [0.4444444444444444, \"#bd3786\"], [0.5555555555555556, \"#d8576b\"], [0.6666666666666666, \"#ed7953\"], [0.7777777777777778, \"#fb9f3a\"], [0.8888888888888888, \"#fdca26\"], [1.0, \"#f0f921\"]], \"type\": \"heatmap\"}], \"heatmapgl\": [{\"colorbar\": {\"outlinewidth\": 0, \"ticks\": \"\"}, \"colorscale\": [[0.0, \"#0d0887\"], [0.1111111111111111, \"#46039f\"], [0.2222222222222222, \"#7201a8\"], [0.3333333333333333, \"#9c179e\"], [0.4444444444444444, \"#bd3786\"], [0.5555555555555556, \"#d8576b\"], [0.6666666666666666, \"#ed7953\"], [0.7777777777777778, \"#fb9f3a\"], [0.8888888888888888, \"#fdca26\"], [1.0, \"#f0f921\"]], \"type\": \"heatmapgl\"}], \"histogram\": [{\"marker\": {\"colorbar\": {\"outlinewidth\": 0, \"ticks\": \"\"}}, \"type\": \"histogram\"}], \"histogram2d\": [{\"colorbar\": {\"outlinewidth\": 0, \"ticks\": \"\"}, \"colorscale\": [[0.0, \"#0d0887\"], [0.1111111111111111, \"#46039f\"], [0.2222222222222222, \"#7201a8\"], [0.3333333333333333, \"#9c179e\"], [0.4444444444444444, \"#bd3786\"], [0.5555555555555556, \"#d8576b\"], [0.6666666666666666, \"#ed7953\"], [0.7777777777777778, \"#fb9f3a\"], [0.8888888888888888, \"#fdca26\"], [1.0, \"#f0f921\"]], \"type\": \"histogram2d\"}], \"histogram2dcontour\": [{\"colorbar\": {\"outlinewidth\": 0, \"ticks\": \"\"}, \"colorscale\": [[0.0, \"#0d0887\"], [0.1111111111111111, \"#46039f\"], [0.2222222222222222, \"#7201a8\"], [0.3333333333333333, \"#9c179e\"], [0.4444444444444444, \"#bd3786\"], [0.5555555555555556, \"#d8576b\"], [0.6666666666666666, \"#ed7953\"], [0.7777777777777778, \"#fb9f3a\"], [0.8888888888888888, \"#fdca26\"], [1.0, \"#f0f921\"]], \"type\": \"histogram2dcontour\"}], \"mesh3d\": [{\"colorbar\": {\"outlinewidth\": 0, \"ticks\": \"\"}, \"type\": \"mesh3d\"}], \"parcoords\": [{\"line\": {\"colorbar\": {\"outlinewidth\": 0, \"ticks\": \"\"}}, \"type\": \"parcoords\"}], \"pie\": [{\"automargin\": true, \"type\": \"pie\"}], \"scatter\": [{\"marker\": {\"colorbar\": {\"outlinewidth\": 0, \"ticks\": \"\"}}, \"type\": \"scatter\"}], \"scatter3d\": [{\"line\": {\"colorbar\": {\"outlinewidth\": 0, \"ticks\": \"\"}}, \"marker\": {\"colorbar\": {\"outlinewidth\": 0, \"ticks\": \"\"}}, \"type\": \"scatter3d\"}], \"scattercarpet\": [{\"marker\": {\"colorbar\": {\"outlinewidth\": 0, \"ticks\": \"\"}}, \"type\": \"scattercarpet\"}], \"scattergeo\": [{\"marker\": {\"colorbar\": {\"outlinewidth\": 0, \"ticks\": \"\"}}, \"type\": \"scattergeo\"}], \"scattergl\": [{\"marker\": {\"colorbar\": {\"outlinewidth\": 0, \"ticks\": \"\"}}, \"type\": \"scattergl\"}], \"scattermapbox\": [{\"marker\": {\"colorbar\": {\"outlinewidth\": 0, \"ticks\": \"\"}}, \"type\": \"scattermapbox\"}], \"scatterpolar\": [{\"marker\": {\"colorbar\": {\"outlinewidth\": 0, \"ticks\": \"\"}}, \"type\": \"scatterpolar\"}], \"scatterpolargl\": [{\"marker\": {\"colorbar\": {\"outlinewidth\": 0, \"ticks\": \"\"}}, \"type\": \"scatterpolargl\"}], \"scatterternary\": [{\"marker\": {\"colorbar\": {\"outlinewidth\": 0, \"ticks\": \"\"}}, \"type\": \"scatterternary\"}], \"surface\": [{\"colorbar\": {\"outlinewidth\": 0, \"ticks\": \"\"}, \"colorscale\": [[0.0, \"#0d0887\"], [0.1111111111111111, \"#46039f\"], [0.2222222222222222, \"#7201a8\"], [0.3333333333333333, \"#9c179e\"], [0.4444444444444444, \"#bd3786\"], [0.5555555555555556, \"#d8576b\"], [0.6666666666666666, \"#ed7953\"], [0.7777777777777778, \"#fb9f3a\"], [0.8888888888888888, \"#fdca26\"], [1.0, \"#f0f921\"]], \"type\": \"surface\"}], \"table\": [{\"cells\": {\"fill\": {\"color\": \"#EBF0F8\"}, \"line\": {\"color\": \"white\"}}, \"header\": {\"fill\": {\"color\": \"#C8D4E3\"}, \"line\": {\"color\": \"white\"}}, \"type\": \"table\"}]}, \"layout\": {\"annotationdefaults\": {\"arrowcolor\": \"#2a3f5f\", \"arrowhead\": 0, \"arrowwidth\": 1}, \"coloraxis\": {\"colorbar\": {\"outlinewidth\": 0, \"ticks\": \"\"}}, \"colorscale\": {\"diverging\": [[0, \"#8e0152\"], [0.1, \"#c51b7d\"], [0.2, \"#de77ae\"], [0.3, \"#f1b6da\"], [0.4, \"#fde0ef\"], [0.5, \"#f7f7f7\"], [0.6, \"#e6f5d0\"], [0.7, \"#b8e186\"], [0.8, \"#7fbc41\"], [0.9, \"#4d9221\"], [1, \"#276419\"]], \"sequential\": [[0.0, \"#0d0887\"], [0.1111111111111111, \"#46039f\"], [0.2222222222222222, \"#7201a8\"], [0.3333333333333333, \"#9c179e\"], [0.4444444444444444, \"#bd3786\"], [0.5555555555555556, \"#d8576b\"], [0.6666666666666666, \"#ed7953\"], [0.7777777777777778, \"#fb9f3a\"], [0.8888888888888888, \"#fdca26\"], [1.0, \"#f0f921\"]], \"sequentialminus\": [[0.0, \"#0d0887\"], [0.1111111111111111, \"#46039f\"], [0.2222222222222222, \"#7201a8\"], [0.3333333333333333, \"#9c179e\"], [0.4444444444444444, \"#bd3786\"], [0.5555555555555556, \"#d8576b\"], [0.6666666666666666, \"#ed7953\"], [0.7777777777777778, \"#fb9f3a\"], [0.8888888888888888, \"#fdca26\"], [1.0, \"#f0f921\"]]}, \"colorway\": [\"#636efa\", \"#EF553B\", \"#00cc96\", \"#ab63fa\", \"#FFA15A\", \"#19d3f3\", \"#FF6692\", \"#B6E880\", \"#FF97FF\", \"#FECB52\"], \"font\": {\"color\": \"#2a3f5f\"}, \"geo\": {\"bgcolor\": \"white\", \"lakecolor\": \"white\", \"landcolor\": \"#E5ECF6\", \"showlakes\": true, \"showland\": true, \"subunitcolor\": \"white\"}, \"hoverlabel\": {\"align\": \"left\"}, \"hovermode\": \"closest\", \"mapbox\": {\"style\": \"light\"}, \"paper_bgcolor\": \"white\", \"plot_bgcolor\": \"#E5ECF6\", \"polar\": {\"angularaxis\": {\"gridcolor\": \"white\", \"linecolor\": \"white\", \"ticks\": \"\"}, \"bgcolor\": \"#E5ECF6\", \"radialaxis\": {\"gridcolor\": \"white\", \"linecolor\": \"white\", \"ticks\": \"\"}}, \"scene\": {\"xaxis\": {\"backgroundcolor\": \"#E5ECF6\", \"gridcolor\": \"white\", \"gridwidth\": 2, \"linecolor\": \"white\", \"showbackground\": true, \"ticks\": \"\", \"zerolinecolor\": \"white\"}, \"yaxis\": {\"backgroundcolor\": \"#E5ECF6\", \"gridcolor\": \"white\", \"gridwidth\": 2, \"linecolor\": \"white\", \"showbackground\": true, \"ticks\": \"\", \"zerolinecolor\": \"white\"}, \"zaxis\": {\"backgroundcolor\": \"#E5ECF6\", \"gridcolor\": \"white\", \"gridwidth\": 2, \"linecolor\": \"white\", \"showbackground\": true, \"ticks\": \"\", \"zerolinecolor\": \"white\"}}, \"shapedefaults\": {\"line\": {\"color\": \"#2a3f5f\"}}, \"ternary\": {\"aaxis\": {\"gridcolor\": \"white\", \"linecolor\": \"white\", \"ticks\": \"\"}, \"baxis\": {\"gridcolor\": \"white\", \"linecolor\": \"white\", \"ticks\": \"\"}, \"bgcolor\": \"#E5ECF6\", \"caxis\": {\"gridcolor\": \"white\", \"linecolor\": \"white\", \"ticks\": \"\"}}, \"title\": {\"x\": 0.05}, \"xaxis\": {\"automargin\": true, \"gridcolor\": \"white\", \"linecolor\": \"white\", \"ticks\": \"\", \"title\": {\"standoff\": 15}, \"zerolinecolor\": \"white\", \"zerolinewidth\": 2}, \"yaxis\": {\"automargin\": true, \"gridcolor\": \"white\", \"linecolor\": \"white\", \"ticks\": \"\", \"title\": {\"standoff\": 15}, \"zerolinecolor\": \"white\", \"zerolinewidth\": 2}}}, \"title\": {\"text\": \"Gender of Individuals in Taxi Surge Pricing\"}},\n",
              "                        {\"responsive\": true}\n",
              "                    ).then(function(){\n",
              "                            \n",
              "var gd = document.getElementById('a6181d29-4720-4c7d-a26d-352a2f5aae48');\n",
              "var x = new MutationObserver(function (mutations, observer) {{\n",
              "        var display = window.getComputedStyle(gd).display;\n",
              "        if (!display || display === 'none') {{\n",
              "            console.log([gd, 'removed!']);\n",
              "            Plotly.purge(gd);\n",
              "            observer.disconnect();\n",
              "        }}\n",
              "}});\n",
              "\n",
              "// Listen for the removal of the full notebook cells\n",
              "var notebookContainer = gd.closest('#notebook-container');\n",
              "if (notebookContainer) {{\n",
              "    x.observe(notebookContainer, {childList: true});\n",
              "}}\n",
              "\n",
              "// Listen for the clearing of the current output cell\n",
              "var outputEl = gd.closest('.output');\n",
              "if (outputEl) {{\n",
              "    x.observe(outputEl, {childList: true});\n",
              "}}\n",
              "\n",
              "                        })\n",
              "                };\n",
              "                \n",
              "            </script>\n",
              "        </div>\n",
              "</body>\n",
              "</html>"
            ]
          },
          "metadata": {}
        },
        {
          "output_type": "display_data",
          "data": {
            "text/plain": [
              "<Figure size 480x240 with 0 Axes>"
            ]
          },
          "metadata": {}
        }
      ]
    },
    {
      "cell_type": "code",
      "metadata": {
        "colab": {
          "base_uri": "https://localhost:8080/",
          "height": 253
        },
        "id": "41OB21KznwFY",
        "outputId": "4ecb6f54-ad46-47da-f43b-ec5b852cef91"
      },
      "source": [
        "corr = df.corr()\n",
        "corr.style.background_gradient(cmap='coolwarm')"
      ],
      "execution_count": 11,
      "outputs": [
        {
          "output_type": "execute_result",
          "data": {
            "text/html": [
              "<style  type=\"text/css\" >\n",
              "#T_012feac4_2440_11ec_9971_0242ac1c0002row0_col0,#T_012feac4_2440_11ec_9971_0242ac1c0002row1_col1,#T_012feac4_2440_11ec_9971_0242ac1c0002row2_col2,#T_012feac4_2440_11ec_9971_0242ac1c0002row3_col3,#T_012feac4_2440_11ec_9971_0242ac1c0002row4_col4,#T_012feac4_2440_11ec_9971_0242ac1c0002row5_col5,#T_012feac4_2440_11ec_9971_0242ac1c0002row6_col6,#T_012feac4_2440_11ec_9971_0242ac1c0002row7_col7,#T_012feac4_2440_11ec_9971_0242ac1c0002row8_col8{\n",
              "            background-color:  #b40426;\n",
              "            color:  #f1f1f1;\n",
              "        }#T_012feac4_2440_11ec_9971_0242ac1c0002row0_col1,#T_012feac4_2440_11ec_9971_0242ac1c0002row1_col8,#T_012feac4_2440_11ec_9971_0242ac1c0002row7_col1{\n",
              "            background-color:  #6c8ff1;\n",
              "            color:  #000000;\n",
              "        }#T_012feac4_2440_11ec_9971_0242ac1c0002row0_col2{\n",
              "            background-color:  #e9d5cb;\n",
              "            color:  #000000;\n",
              "        }#T_012feac4_2440_11ec_9971_0242ac1c0002row0_col3{\n",
              "            background-color:  #779af7;\n",
              "            color:  #000000;\n",
              "        }#T_012feac4_2440_11ec_9971_0242ac1c0002row0_col4,#T_012feac4_2440_11ec_9971_0242ac1c0002row1_col4,#T_012feac4_2440_11ec_9971_0242ac1c0002row2_col5,#T_012feac4_2440_11ec_9971_0242ac1c0002row3_col0,#T_012feac4_2440_11ec_9971_0242ac1c0002row3_col1,#T_012feac4_2440_11ec_9971_0242ac1c0002row3_col6,#T_012feac4_2440_11ec_9971_0242ac1c0002row3_col7,#T_012feac4_2440_11ec_9971_0242ac1c0002row3_col8,#T_012feac4_2440_11ec_9971_0242ac1c0002row5_col2,#T_012feac4_2440_11ec_9971_0242ac1c0002row6_col3{\n",
              "            background-color:  #3b4cc0;\n",
              "            color:  #f1f1f1;\n",
              "        }#T_012feac4_2440_11ec_9971_0242ac1c0002row0_col5,#T_012feac4_2440_11ec_9971_0242ac1c0002row4_col1,#T_012feac4_2440_11ec_9971_0242ac1c0002row5_col1,#T_012feac4_2440_11ec_9971_0242ac1c0002row6_col5{\n",
              "            background-color:  #465ecf;\n",
              "            color:  #f1f1f1;\n",
              "        }#T_012feac4_2440_11ec_9971_0242ac1c0002row0_col6,#T_012feac4_2440_11ec_9971_0242ac1c0002row7_col2{\n",
              "            background-color:  #bbd1f8;\n",
              "            color:  #000000;\n",
              "        }#T_012feac4_2440_11ec_9971_0242ac1c0002row0_col7{\n",
              "            background-color:  #b7cff9;\n",
              "            color:  #000000;\n",
              "        }#T_012feac4_2440_11ec_9971_0242ac1c0002row0_col8{\n",
              "            background-color:  #8fb1fe;\n",
              "            color:  #000000;\n",
              "        }#T_012feac4_2440_11ec_9971_0242ac1c0002row1_col0{\n",
              "            background-color:  #6e90f2;\n",
              "            color:  #000000;\n",
              "        }#T_012feac4_2440_11ec_9971_0242ac1c0002row1_col2{\n",
              "            background-color:  #7da0f9;\n",
              "            color:  #000000;\n",
              "        }#T_012feac4_2440_11ec_9971_0242ac1c0002row1_col3,#T_012feac4_2440_11ec_9971_0242ac1c0002row5_col6,#T_012feac4_2440_11ec_9971_0242ac1c0002row8_col4{\n",
              "            background-color:  #799cf8;\n",
              "            color:  #000000;\n",
              "        }#T_012feac4_2440_11ec_9971_0242ac1c0002row1_col5,#T_012feac4_2440_11ec_9971_0242ac1c0002row3_col5,#T_012feac4_2440_11ec_9971_0242ac1c0002row8_col1{\n",
              "            background-color:  #516ddb;\n",
              "            color:  #000000;\n",
              "        }#T_012feac4_2440_11ec_9971_0242ac1c0002row1_col6{\n",
              "            background-color:  #92b4fe;\n",
              "            color:  #000000;\n",
              "        }#T_012feac4_2440_11ec_9971_0242ac1c0002row1_col7,#T_012feac4_2440_11ec_9971_0242ac1c0002row3_col2{\n",
              "            background-color:  #96b7ff;\n",
              "            color:  #000000;\n",
              "        }#T_012feac4_2440_11ec_9971_0242ac1c0002row2_col0{\n",
              "            background-color:  #e5d8d1;\n",
              "            color:  #000000;\n",
              "        }#T_012feac4_2440_11ec_9971_0242ac1c0002row2_col1{\n",
              "            background-color:  #7295f4;\n",
              "            color:  #000000;\n",
              "        }#T_012feac4_2440_11ec_9971_0242ac1c0002row2_col3{\n",
              "            background-color:  #bed2f6;\n",
              "            color:  #000000;\n",
              "        }#T_012feac4_2440_11ec_9971_0242ac1c0002row2_col4{\n",
              "            background-color:  #536edd;\n",
              "            color:  #000000;\n",
              "        }#T_012feac4_2440_11ec_9971_0242ac1c0002row2_col6{\n",
              "            background-color:  #c4d5f3;\n",
              "            color:  #000000;\n",
              "        }#T_012feac4_2440_11ec_9971_0242ac1c0002row2_col7{\n",
              "            background-color:  #cfdaea;\n",
              "            color:  #000000;\n",
              "        }#T_012feac4_2440_11ec_9971_0242ac1c0002row2_col8{\n",
              "            background-color:  #4f69d9;\n",
              "            color:  #000000;\n",
              "        }#T_012feac4_2440_11ec_9971_0242ac1c0002row3_col4{\n",
              "            background-color:  #3d50c3;\n",
              "            color:  #f1f1f1;\n",
              "        }#T_012feac4_2440_11ec_9971_0242ac1c0002row4_col0{\n",
              "            background-color:  #4961d2;\n",
              "            color:  #f1f1f1;\n",
              "        }#T_012feac4_2440_11ec_9971_0242ac1c0002row4_col2,#T_012feac4_2440_11ec_9971_0242ac1c0002row8_col7{\n",
              "            background-color:  #6b8df0;\n",
              "            color:  #000000;\n",
              "        }#T_012feac4_2440_11ec_9971_0242ac1c0002row4_col3,#T_012feac4_2440_11ec_9971_0242ac1c0002row8_col6{\n",
              "            background-color:  #88abfd;\n",
              "            color:  #000000;\n",
              "        }#T_012feac4_2440_11ec_9971_0242ac1c0002row4_col5,#T_012feac4_2440_11ec_9971_0242ac1c0002row5_col8{\n",
              "            background-color:  #5875e1;\n",
              "            color:  #000000;\n",
              "        }#T_012feac4_2440_11ec_9971_0242ac1c0002row4_col6{\n",
              "            background-color:  #a1c0ff;\n",
              "            color:  #000000;\n",
              "        }#T_012feac4_2440_11ec_9971_0242ac1c0002row4_col7{\n",
              "            background-color:  #9abbff;\n",
              "            color:  #000000;\n",
              "        }#T_012feac4_2440_11ec_9971_0242ac1c0002row4_col8,#T_012feac4_2440_11ec_9971_0242ac1c0002row6_col2{\n",
              "            background-color:  #9ebeff;\n",
              "            color:  #000000;\n",
              "        }#T_012feac4_2440_11ec_9971_0242ac1c0002row5_col0{\n",
              "            background-color:  #3c4ec2;\n",
              "            color:  #f1f1f1;\n",
              "        }#T_012feac4_2440_11ec_9971_0242ac1c0002row5_col3{\n",
              "            background-color:  #84a7fc;\n",
              "            color:  #000000;\n",
              "        }#T_012feac4_2440_11ec_9971_0242ac1c0002row5_col4{\n",
              "            background-color:  #3f53c6;\n",
              "            color:  #f1f1f1;\n",
              "        }#T_012feac4_2440_11ec_9971_0242ac1c0002row5_col7{\n",
              "            background-color:  #6384eb;\n",
              "            color:  #000000;\n",
              "        }#T_012feac4_2440_11ec_9971_0242ac1c0002row6_col0{\n",
              "            background-color:  #8badfd;\n",
              "            color:  #000000;\n",
              "        }#T_012feac4_2440_11ec_9971_0242ac1c0002row6_col1{\n",
              "            background-color:  #5572df;\n",
              "            color:  #000000;\n",
              "        }#T_012feac4_2440_11ec_9971_0242ac1c0002row6_col4{\n",
              "            background-color:  #5977e3;\n",
              "            color:  #000000;\n",
              "        }#T_012feac4_2440_11ec_9971_0242ac1c0002row6_col7{\n",
              "            background-color:  #f59d7e;\n",
              "            color:  #000000;\n",
              "        }#T_012feac4_2440_11ec_9971_0242ac1c0002row6_col8{\n",
              "            background-color:  #6687ed;\n",
              "            color:  #000000;\n",
              "        }#T_012feac4_2440_11ec_9971_0242ac1c0002row7_col0{\n",
              "            background-color:  #94b6ff;\n",
              "            color:  #000000;\n",
              "        }#T_012feac4_2440_11ec_9971_0242ac1c0002row7_col3{\n",
              "            background-color:  #4b64d5;\n",
              "            color:  #f1f1f1;\n",
              "        }#T_012feac4_2440_11ec_9971_0242ac1c0002row7_col4{\n",
              "            background-color:  #6485ec;\n",
              "            color:  #000000;\n",
              "        }#T_012feac4_2440_11ec_9971_0242ac1c0002row7_col5{\n",
              "            background-color:  #4257c9;\n",
              "            color:  #f1f1f1;\n",
              "        }#T_012feac4_2440_11ec_9971_0242ac1c0002row7_col6{\n",
              "            background-color:  #f39778;\n",
              "            color:  #000000;\n",
              "        }#T_012feac4_2440_11ec_9971_0242ac1c0002row7_col8{\n",
              "            background-color:  #5a78e4;\n",
              "            color:  #000000;\n",
              "        }#T_012feac4_2440_11ec_9971_0242ac1c0002row8_col0{\n",
              "            background-color:  #7597f6;\n",
              "            color:  #000000;\n",
              "        }#T_012feac4_2440_11ec_9971_0242ac1c0002row8_col2{\n",
              "            background-color:  #3e51c5;\n",
              "            color:  #f1f1f1;\n",
              "        }#T_012feac4_2440_11ec_9971_0242ac1c0002row8_col3{\n",
              "            background-color:  #5d7ce6;\n",
              "            color:  #000000;\n",
              "        }#T_012feac4_2440_11ec_9971_0242ac1c0002row8_col5{\n",
              "            background-color:  #485fd1;\n",
              "            color:  #f1f1f1;\n",
              "        }</style><table id=\"T_012feac4_2440_11ec_9971_0242ac1c0002\" ><thead>    <tr>        <th class=\"blank level0\" ></th>        <th class=\"col_heading level0 col0\" >Trip_Distance</th>        <th class=\"col_heading level0 col1\" >Customer_Since_Months</th>        <th class=\"col_heading level0 col2\" >Life_Style_Index</th>        <th class=\"col_heading level0 col3\" >Customer_Rating</th>        <th class=\"col_heading level0 col4\" >Cancellation_Last_1Month</th>        <th class=\"col_heading level0 col5\" >Var1</th>        <th class=\"col_heading level0 col6\" >Var2</th>        <th class=\"col_heading level0 col7\" >Var3</th>        <th class=\"col_heading level0 col8\" >Surge_Pricing_Type</th>    </tr></thead><tbody>\n",
              "                <tr>\n",
              "                        <th id=\"T_012feac4_2440_11ec_9971_0242ac1c0002level0_row0\" class=\"row_heading level0 row0\" >Trip_Distance</th>\n",
              "                        <td id=\"T_012feac4_2440_11ec_9971_0242ac1c0002row0_col0\" class=\"data row0 col0\" >1.000000</td>\n",
              "                        <td id=\"T_012feac4_2440_11ec_9971_0242ac1c0002row0_col1\" class=\"data row0 col1\" >0.117303</td>\n",
              "                        <td id=\"T_012feac4_2440_11ec_9971_0242ac1c0002row0_col2\" class=\"data row0 col2\" >0.508792</td>\n",
              "                        <td id=\"T_012feac4_2440_11ec_9971_0242ac1c0002row0_col3\" class=\"data row0 col3\" >-0.055674</td>\n",
              "                        <td id=\"T_012feac4_2440_11ec_9971_0242ac1c0002row0_col4\" class=\"data row0 col4\" >-0.005287</td>\n",
              "                        <td id=\"T_012feac4_2440_11ec_9971_0242ac1c0002row0_col5\" class=\"data row0 col5\" >-0.050401</td>\n",
              "                        <td id=\"T_012feac4_2440_11ec_9971_0242ac1c0002row0_col6\" class=\"data row0 col6\" >0.200322</td>\n",
              "                        <td id=\"T_012feac4_2440_11ec_9971_0242ac1c0002row0_col7\" class=\"data row0 col7\" >0.232650</td>\n",
              "                        <td id=\"T_012feac4_2440_11ec_9971_0242ac1c0002row0_col8\" class=\"data row0 col8\" >0.137321</td>\n",
              "            </tr>\n",
              "            <tr>\n",
              "                        <th id=\"T_012feac4_2440_11ec_9971_0242ac1c0002level0_row1\" class=\"row_heading level0 row1\" >Customer_Since_Months</th>\n",
              "                        <td id=\"T_012feac4_2440_11ec_9971_0242ac1c0002row1_col0\" class=\"data row1 col0\" >0.117303</td>\n",
              "                        <td id=\"T_012feac4_2440_11ec_9971_0242ac1c0002row1_col1\" class=\"data row1 col1\" >1.000000</td>\n",
              "                        <td id=\"T_012feac4_2440_11ec_9971_0242ac1c0002row1_col2\" class=\"data row1 col2\" >0.132987</td>\n",
              "                        <td id=\"T_012feac4_2440_11ec_9971_0242ac1c0002row1_col3\" class=\"data row1 col3\" >-0.050916</td>\n",
              "                        <td id=\"T_012feac4_2440_11ec_9971_0242ac1c0002row1_col4\" class=\"data row1 col4\" >-0.006372</td>\n",
              "                        <td id=\"T_012feac4_2440_11ec_9971_0242ac1c0002row1_col5\" class=\"data row1 col5\" >-0.008397</td>\n",
              "                        <td id=\"T_012feac4_2440_11ec_9971_0242ac1c0002row1_col6\" class=\"data row1 col6\" >0.042638</td>\n",
              "                        <td id=\"T_012feac4_2440_11ec_9971_0242ac1c0002row1_col7\" class=\"data row1 col7\" >0.113511</td>\n",
              "                        <td id=\"T_012feac4_2440_11ec_9971_0242ac1c0002row1_col8\" class=\"data row1 col8\" >0.027423</td>\n",
              "            </tr>\n",
              "            <tr>\n",
              "                        <th id=\"T_012feac4_2440_11ec_9971_0242ac1c0002level0_row2\" class=\"row_heading level0 row2\" >Life_Style_Index</th>\n",
              "                        <td id=\"T_012feac4_2440_11ec_9971_0242ac1c0002row2_col0\" class=\"data row2 col0\" >0.508792</td>\n",
              "                        <td id=\"T_012feac4_2440_11ec_9971_0242ac1c0002row2_col1\" class=\"data row2 col1\" >0.132987</td>\n",
              "                        <td id=\"T_012feac4_2440_11ec_9971_0242ac1c0002row2_col2\" class=\"data row2 col2\" >1.000000</td>\n",
              "                        <td id=\"T_012feac4_2440_11ec_9971_0242ac1c0002row2_col3\" class=\"data row2 col3\" >0.206951</td>\n",
              "                        <td id=\"T_012feac4_2440_11ec_9971_0242ac1c0002row2_col4\" class=\"data row2 col4\" >0.075607</td>\n",
              "                        <td id=\"T_012feac4_2440_11ec_9971_0242ac1c0002row2_col5\" class=\"data row2 col5\" >-0.093338</td>\n",
              "                        <td id=\"T_012feac4_2440_11ec_9971_0242ac1c0002row2_col6\" class=\"data row2 col6\" >0.232264</td>\n",
              "                        <td id=\"T_012feac4_2440_11ec_9971_0242ac1c0002row2_col7\" class=\"data row2 col7\" >0.327558</td>\n",
              "                        <td id=\"T_012feac4_2440_11ec_9971_0242ac1c0002row2_col8\" class=\"data row2 col8\" >-0.078119</td>\n",
              "            </tr>\n",
              "            <tr>\n",
              "                        <th id=\"T_012feac4_2440_11ec_9971_0242ac1c0002level0_row3\" class=\"row_heading level0 row3\" >Customer_Rating</th>\n",
              "                        <td id=\"T_012feac4_2440_11ec_9971_0242ac1c0002row3_col0\" class=\"data row3 col0\" >-0.055674</td>\n",
              "                        <td id=\"T_012feac4_2440_11ec_9971_0242ac1c0002row3_col1\" class=\"data row3 col1\" >-0.050916</td>\n",
              "                        <td id=\"T_012feac4_2440_11ec_9971_0242ac1c0002row3_col2\" class=\"data row3 col2\" >0.206951</td>\n",
              "                        <td id=\"T_012feac4_2440_11ec_9971_0242ac1c0002row3_col3\" class=\"data row3 col3\" >1.000000</td>\n",
              "                        <td id=\"T_012feac4_2440_11ec_9971_0242ac1c0002row3_col4\" class=\"data row3 col4\" >0.003936</td>\n",
              "                        <td id=\"T_012feac4_2440_11ec_9971_0242ac1c0002row3_col5\" class=\"data row3 col5\" >-0.011717</td>\n",
              "                        <td id=\"T_012feac4_2440_11ec_9971_0242ac1c0002row3_col6\" class=\"data row3 col6\" >-0.302017</td>\n",
              "                        <td id=\"T_012feac4_2440_11ec_9971_0242ac1c0002row3_col7\" class=\"data row3 col7\" >-0.226520</td>\n",
              "                        <td id=\"T_012feac4_2440_11ec_9971_0242ac1c0002row3_col8\" class=\"data row3 col8\" >-0.156422</td>\n",
              "            </tr>\n",
              "            <tr>\n",
              "                        <th id=\"T_012feac4_2440_11ec_9971_0242ac1c0002level0_row4\" class=\"row_heading level0 row4\" >Cancellation_Last_1Month</th>\n",
              "                        <td id=\"T_012feac4_2440_11ec_9971_0242ac1c0002row4_col0\" class=\"data row4 col0\" >-0.005287</td>\n",
              "                        <td id=\"T_012feac4_2440_11ec_9971_0242ac1c0002row4_col1\" class=\"data row4 col1\" >-0.006372</td>\n",
              "                        <td id=\"T_012feac4_2440_11ec_9971_0242ac1c0002row4_col2\" class=\"data row4 col2\" >0.075607</td>\n",
              "                        <td id=\"T_012feac4_2440_11ec_9971_0242ac1c0002row4_col3\" class=\"data row4 col3\" >0.003936</td>\n",
              "                        <td id=\"T_012feac4_2440_11ec_9971_0242ac1c0002row4_col4\" class=\"data row4 col4\" >1.000000</td>\n",
              "                        <td id=\"T_012feac4_2440_11ec_9971_0242ac1c0002row4_col5\" class=\"data row4 col5\" >0.010817</td>\n",
              "                        <td id=\"T_012feac4_2440_11ec_9971_0242ac1c0002row4_col6\" class=\"data row4 col6\" >0.095785</td>\n",
              "                        <td id=\"T_012feac4_2440_11ec_9971_0242ac1c0002row4_col7\" class=\"data row4 col7\" >0.127563</td>\n",
              "                        <td id=\"T_012feac4_2440_11ec_9971_0242ac1c0002row4_col8\" class=\"data row4 col8\" >0.188505</td>\n",
              "            </tr>\n",
              "            <tr>\n",
              "                        <th id=\"T_012feac4_2440_11ec_9971_0242ac1c0002level0_row5\" class=\"row_heading level0 row5\" >Var1</th>\n",
              "                        <td id=\"T_012feac4_2440_11ec_9971_0242ac1c0002row5_col0\" class=\"data row5 col0\" >-0.050401</td>\n",
              "                        <td id=\"T_012feac4_2440_11ec_9971_0242ac1c0002row5_col1\" class=\"data row5 col1\" >-0.008397</td>\n",
              "                        <td id=\"T_012feac4_2440_11ec_9971_0242ac1c0002row5_col2\" class=\"data row5 col2\" >-0.093338</td>\n",
              "                        <td id=\"T_012feac4_2440_11ec_9971_0242ac1c0002row5_col3\" class=\"data row5 col3\" >-0.011717</td>\n",
              "                        <td id=\"T_012feac4_2440_11ec_9971_0242ac1c0002row5_col4\" class=\"data row5 col4\" >0.010817</td>\n",
              "                        <td id=\"T_012feac4_2440_11ec_9971_0242ac1c0002row5_col5\" class=\"data row5 col5\" >1.000000</td>\n",
              "                        <td id=\"T_012feac4_2440_11ec_9971_0242ac1c0002row5_col6\" class=\"data row5 col6\" >-0.049990</td>\n",
              "                        <td id=\"T_012feac4_2440_11ec_9971_0242ac1c0002row5_col7\" class=\"data row5 col7\" >-0.065479</td>\n",
              "                        <td id=\"T_012feac4_2440_11ec_9971_0242ac1c0002row5_col8\" class=\"data row5 col8\" >-0.043574</td>\n",
              "            </tr>\n",
              "            <tr>\n",
              "                        <th id=\"T_012feac4_2440_11ec_9971_0242ac1c0002level0_row6\" class=\"row_heading level0 row6\" >Var2</th>\n",
              "                        <td id=\"T_012feac4_2440_11ec_9971_0242ac1c0002row6_col0\" class=\"data row6 col0\" >0.200322</td>\n",
              "                        <td id=\"T_012feac4_2440_11ec_9971_0242ac1c0002row6_col1\" class=\"data row6 col1\" >0.042638</td>\n",
              "                        <td id=\"T_012feac4_2440_11ec_9971_0242ac1c0002row6_col2\" class=\"data row6 col2\" >0.232264</td>\n",
              "                        <td id=\"T_012feac4_2440_11ec_9971_0242ac1c0002row6_col3\" class=\"data row6 col3\" >-0.302017</td>\n",
              "                        <td id=\"T_012feac4_2440_11ec_9971_0242ac1c0002row6_col4\" class=\"data row6 col4\" >0.095785</td>\n",
              "                        <td id=\"T_012feac4_2440_11ec_9971_0242ac1c0002row6_col5\" class=\"data row6 col5\" >-0.049990</td>\n",
              "                        <td id=\"T_012feac4_2440_11ec_9971_0242ac1c0002row6_col6\" class=\"data row6 col6\" >1.000000</td>\n",
              "                        <td id=\"T_012feac4_2440_11ec_9971_0242ac1c0002row6_col7\" class=\"data row6 col7\" >0.683407</td>\n",
              "                        <td id=\"T_012feac4_2440_11ec_9971_0242ac1c0002row6_col8\" class=\"data row6 col8\" >0.004325</td>\n",
              "            </tr>\n",
              "            <tr>\n",
              "                        <th id=\"T_012feac4_2440_11ec_9971_0242ac1c0002level0_row7\" class=\"row_heading level0 row7\" >Var3</th>\n",
              "                        <td id=\"T_012feac4_2440_11ec_9971_0242ac1c0002row7_col0\" class=\"data row7 col0\" >0.232650</td>\n",
              "                        <td id=\"T_012feac4_2440_11ec_9971_0242ac1c0002row7_col1\" class=\"data row7 col1\" >0.113511</td>\n",
              "                        <td id=\"T_012feac4_2440_11ec_9971_0242ac1c0002row7_col2\" class=\"data row7 col2\" >0.327558</td>\n",
              "                        <td id=\"T_012feac4_2440_11ec_9971_0242ac1c0002row7_col3\" class=\"data row7 col3\" >-0.226520</td>\n",
              "                        <td id=\"T_012feac4_2440_11ec_9971_0242ac1c0002row7_col4\" class=\"data row7 col4\" >0.127563</td>\n",
              "                        <td id=\"T_012feac4_2440_11ec_9971_0242ac1c0002row7_col5\" class=\"data row7 col5\" >-0.065479</td>\n",
              "                        <td id=\"T_012feac4_2440_11ec_9971_0242ac1c0002row7_col6\" class=\"data row7 col6\" >0.683407</td>\n",
              "                        <td id=\"T_012feac4_2440_11ec_9971_0242ac1c0002row7_col7\" class=\"data row7 col7\" >1.000000</td>\n",
              "                        <td id=\"T_012feac4_2440_11ec_9971_0242ac1c0002row7_col8\" class=\"data row7 col8\" >-0.038748</td>\n",
              "            </tr>\n",
              "            <tr>\n",
              "                        <th id=\"T_012feac4_2440_11ec_9971_0242ac1c0002level0_row8\" class=\"row_heading level0 row8\" >Surge_Pricing_Type</th>\n",
              "                        <td id=\"T_012feac4_2440_11ec_9971_0242ac1c0002row8_col0\" class=\"data row8 col0\" >0.137321</td>\n",
              "                        <td id=\"T_012feac4_2440_11ec_9971_0242ac1c0002row8_col1\" class=\"data row8 col1\" >0.027423</td>\n",
              "                        <td id=\"T_012feac4_2440_11ec_9971_0242ac1c0002row8_col2\" class=\"data row8 col2\" >-0.078119</td>\n",
              "                        <td id=\"T_012feac4_2440_11ec_9971_0242ac1c0002row8_col3\" class=\"data row8 col3\" >-0.156422</td>\n",
              "                        <td id=\"T_012feac4_2440_11ec_9971_0242ac1c0002row8_col4\" class=\"data row8 col4\" >0.188505</td>\n",
              "                        <td id=\"T_012feac4_2440_11ec_9971_0242ac1c0002row8_col5\" class=\"data row8 col5\" >-0.043574</td>\n",
              "                        <td id=\"T_012feac4_2440_11ec_9971_0242ac1c0002row8_col6\" class=\"data row8 col6\" >0.004325</td>\n",
              "                        <td id=\"T_012feac4_2440_11ec_9971_0242ac1c0002row8_col7\" class=\"data row8 col7\" >-0.038748</td>\n",
              "                        <td id=\"T_012feac4_2440_11ec_9971_0242ac1c0002row8_col8\" class=\"data row8 col8\" >1.000000</td>\n",
              "            </tr>\n",
              "    </tbody></table>"
            ],
            "text/plain": [
              "<pandas.io.formats.style.Styler at 0x7f25c965afd0>"
            ]
          },
          "metadata": {},
          "execution_count": 11
        }
      ]
    },
    {
      "cell_type": "code",
      "metadata": {
        "colab": {
          "base_uri": "https://localhost:8080/",
          "height": 655
        },
        "id": "_JmI7ut-nwIz",
        "outputId": "89eaf5a9-a0e0-4d8f-8573-00aaaa29c007"
      },
      "source": [
        "import seaborn as sns\n",
        "\n",
        "Var_Corr = df.corr()\n",
        "# plot the heatmap and annotation on it\n",
        "sns.heatmap(Var_Corr, xticklabels=Var_Corr.columns, yticklabels=Var_Corr.columns, annot=True)"
      ],
      "execution_count": 12,
      "outputs": [
        {
          "output_type": "execute_result",
          "data": {
            "text/plain": [
              "<matplotlib.axes._subplots.AxesSubplot at 0x7f25c7cd7450>"
            ]
          },
          "metadata": {},
          "execution_count": 12
        },
        {
          "output_type": "display_data",
          "data": {
            "image/png": "[encoded data removed]",
            "text/plain": [
              "<Figure size 640x480 with 2 Axes>"
            ]
          },
          "metadata": {}
        }
      ]
    },
    {
      "cell_type": "code",
      "metadata": {
        "id": "YuGYQbEipzwt"
      },
      "source": [
        ""
      ],
      "execution_count": 12,
      "outputs": []
    },
    {
      "cell_type": "markdown",
      "metadata": {
        "id": "xsBe5RH9qIS-"
      },
      "source": [
        "# Data Processing\n",
        "\n",
        "Initial steps involve data cleaning like removing null values, filling null values with non-zero values, etc."
      ]
    },
    {
      "cell_type": "code",
      "metadata": {
        "colab": {
          "base_uri": "https://localhost:8080/"
        },
        "id": "nBk0phYarIv_",
        "outputId": "a6348c6e-c6f7-4a0f-da42-f69e8a353a3e"
      },
      "source": [
        "df.isnull().sum()"
      ],
      "execution_count": 13,
      "outputs": [
        {
          "output_type": "execute_result",
          "data": {
            "text/plain": [
              "Trip_ID                            0\n",
              "Trip_Distance                      0\n",
              "Type_of_Cab                    16765\n",
              "Customer_Since_Months           4903\n",
              "Life_Style_Index               16850\n",
              "Confidence_Life_Style_Index    16850\n",
              "Destination_Type                   0\n",
              "Customer_Rating                    0\n",
              "Cancellation_Last_1Month           0\n",
              "Var1                           59159\n",
              "Var2                               0\n",
              "Var3                               0\n",
              "Gender                             0\n",
              "Surge_Pricing_Type                 0\n",
              "dtype: int64"
            ]
          },
          "metadata": {},
          "execution_count": 13
        }
      ]
    },
    {
      "cell_type": "code",
      "metadata": {
        "colab": {
          "base_uri": "https://localhost:8080/"
        },
        "id": "LRwjEWuzkhIf",
        "outputId": "2c251d7a-604b-4762-d1a0-a947fee536be"
      },
      "source": [
        "df[\"Type_of_Cab\"].value_counts()"
      ],
      "execution_count": 14,
      "outputs": [
        {
          "output_type": "execute_result",
          "data": {
            "text/plain": [
              "B    25959\n",
              "C    23306\n",
              "A    18028\n",
              "D    15752\n",
              "E     9712\n",
              "Name: Type_of_Cab, dtype: int64"
            ]
          },
          "metadata": {},
          "execution_count": 14
        }
      ]
    },
    {
      "cell_type": "code",
      "metadata": {
        "id": "vE6KpqAvk2J1"
      },
      "source": [
        "# The null value cabs will be assigned to \"F\"\n",
        "df[\"Type_of_Cab\"] = df[\"Type_of_Cab\"].fillna(\"F\")"
      ],
      "execution_count": 15,
      "outputs": []
    },
    {
      "cell_type": "code",
      "metadata": {
        "colab": {
          "base_uri": "https://localhost:8080/"
        },
        "id": "ybzpxDmirRE3",
        "outputId": "f7e58011-b3e9-4703-c615-418787fe3549"
      },
      "source": [
        "df.isnull().sum()"
      ],
      "execution_count": 16,
      "outputs": [
        {
          "output_type": "execute_result",
          "data": {
            "text/plain": [
              "Trip_ID                            0\n",
              "Trip_Distance                      0\n",
              "Type_of_Cab                        0\n",
              "Customer_Since_Months           4903\n",
              "Life_Style_Index               16850\n",
              "Confidence_Life_Style_Index    16850\n",
              "Destination_Type                   0\n",
              "Customer_Rating                    0\n",
              "Cancellation_Last_1Month           0\n",
              "Var1                           59159\n",
              "Var2                               0\n",
              "Var3                               0\n",
              "Gender                             0\n",
              "Surge_Pricing_Type                 0\n",
              "dtype: int64"
            ]
          },
          "metadata": {},
          "execution_count": 16
        }
      ]
    },
    {
      "cell_type": "code",
      "metadata": {
        "id": "OsNdVlD9sxui"
      },
      "source": [
        "avg = df[\"Customer_Since_Months\"].mean()\n",
        "df[\"Customer_Since_Months\"] = df[\"Customer_Since_Months\"].fillna(round(avg))"
      ],
      "execution_count": 17,
      "outputs": []
    },
    {
      "cell_type": "code",
      "metadata": {
        "colab": {
          "base_uri": "https://localhost:8080/"
        },
        "id": "yLJ31MLlvoVA",
        "outputId": "df8b0ef4-9099-4dec-dc6e-a8d943477a3f"
      },
      "source": [
        "df[\"Life_Style_Index\"].value_counts()"
      ],
      "execution_count": 18,
      "outputs": [
        {
          "output_type": "execute_result",
          "data": {
            "text/plain": [
              "2.70697    13\n",
              "2.78127    11\n",
              "2.78465    11\n",
              "2.78388    11\n",
              "2.77608    11\n",
              "           ..\n",
              "2.58879     1\n",
              "2.63534     1\n",
              "2.97586     1\n",
              "2.98463     1\n",
              "2.82874     1\n",
              "Name: Life_Style_Index, Length: 50876, dtype: int64"
            ]
          },
          "metadata": {},
          "execution_count": 18
        }
      ]
    },
    {
      "cell_type": "code",
      "metadata": {
        "colab": {
          "base_uri": "https://localhost:8080/"
        },
        "id": "QQVzgYTjwgm_",
        "outputId": "9cb7626d-34f7-4e72-c5be-256442bcab5b"
      },
      "source": [
        "df[\"Life_Style_Index\"].describe()"
      ],
      "execution_count": 19,
      "outputs": [
        {
          "output_type": "execute_result",
          "data": {
            "text/plain": [
              "count    92672.000000\n",
              "mean         2.802270\n",
              "std          0.225523\n",
              "min          1.656960\n",
              "25%          2.654880\n",
              "50%          2.797640\n",
              "75%          2.946798\n",
              "max          4.875110\n",
              "Name: Life_Style_Index, dtype: float64"
            ]
          },
          "metadata": {},
          "execution_count": 19
        }
      ]
    },
    {
      "cell_type": "code",
      "metadata": {
        "colab": {
          "base_uri": "https://localhost:8080/"
        },
        "id": "5Zg4AAb_wkKR",
        "outputId": "ae950709-cc1e-4af6-dca6-8cd7e14f1b19"
      },
      "source": [
        "df[\"Confidence_Life_Style_Index\"].value_counts()"
      ],
      "execution_count": 20,
      "outputs": [
        {
          "output_type": "execute_result",
          "data": {
            "text/plain": [
              "B    33556\n",
              "C    29914\n",
              "A    29202\n",
              "Name: Confidence_Life_Style_Index, dtype: int64"
            ]
          },
          "metadata": {},
          "execution_count": 20
        }
      ]
    },
    {
      "cell_type": "code",
      "metadata": {
        "colab": {
          "base_uri": "https://localhost:8080/"
        },
        "id": "MargQPvFwmmx",
        "outputId": "10fe842c-0be4-415f-8635-c6cb4085df20"
      },
      "source": [
        "df.isnull().sum()"
      ],
      "execution_count": 21,
      "outputs": [
        {
          "output_type": "execute_result",
          "data": {
            "text/plain": [
              "Trip_ID                            0\n",
              "Trip_Distance                      0\n",
              "Type_of_Cab                        0\n",
              "Customer_Since_Months              0\n",
              "Life_Style_Index               16850\n",
              "Confidence_Life_Style_Index    16850\n",
              "Destination_Type                   0\n",
              "Customer_Rating                    0\n",
              "Cancellation_Last_1Month           0\n",
              "Var1                           59159\n",
              "Var2                               0\n",
              "Var3                               0\n",
              "Gender                             0\n",
              "Surge_Pricing_Type                 0\n",
              "dtype: int64"
            ]
          },
          "metadata": {},
          "execution_count": 21
        }
      ]
    },
    {
      "cell_type": "code",
      "metadata": {
        "id": "qdYlS40Kwpp4"
      },
      "source": [
        "df = df.dropna(subset=[\"Life_Style_Index\"])"
      ],
      "execution_count": 22,
      "outputs": []
    },
    {
      "cell_type": "code",
      "metadata": {
        "colab": {
          "base_uri": "https://localhost:8080/"
        },
        "id": "T8qC5cfQwt31",
        "outputId": "73193191-8227-470b-cffd-0beb0b6e3092"
      },
      "source": [
        "df.isnull().sum()"
      ],
      "execution_count": 23,
      "outputs": [
        {
          "output_type": "execute_result",
          "data": {
            "text/plain": [
              "Trip_ID                            0\n",
              "Trip_Distance                      0\n",
              "Type_of_Cab                        0\n",
              "Customer_Since_Months              0\n",
              "Life_Style_Index                   0\n",
              "Confidence_Life_Style_Index        0\n",
              "Destination_Type                   0\n",
              "Customer_Rating                    0\n",
              "Cancellation_Last_1Month           0\n",
              "Var1                           49976\n",
              "Var2                               0\n",
              "Var3                               0\n",
              "Gender                             0\n",
              "Surge_Pricing_Type                 0\n",
              "dtype: int64"
            ]
          },
          "metadata": {},
          "execution_count": 23
        }
      ]
    },
    {
      "cell_type": "code",
      "metadata": {
        "id": "emrFrJhXwvqH"
      },
      "source": [
        "# Replacing nan values in Var1 by average rounded to 0 decimals\n",
        "Var1_avg = df[\"Var1\"].mean()\n",
        "df[\"Var1\"] = df[\"Var1\"].fillna(round(Var1_avg))"
      ],
      "execution_count": 24,
      "outputs": []
    },
    {
      "cell_type": "code",
      "metadata": {
        "colab": {
          "base_uri": "https://localhost:8080/"
        },
        "id": "CO7Y05JGw2sf",
        "outputId": "610d5514-465e-4ad6-f1bc-066da3e58a2c"
      },
      "source": [
        "df.isnull().sum()"
      ],
      "execution_count": 25,
      "outputs": [
        {
          "output_type": "execute_result",
          "data": {
            "text/plain": [
              "Trip_ID                        0\n",
              "Trip_Distance                  0\n",
              "Type_of_Cab                    0\n",
              "Customer_Since_Months          0\n",
              "Life_Style_Index               0\n",
              "Confidence_Life_Style_Index    0\n",
              "Destination_Type               0\n",
              "Customer_Rating                0\n",
              "Cancellation_Last_1Month       0\n",
              "Var1                           0\n",
              "Var2                           0\n",
              "Var3                           0\n",
              "Gender                         0\n",
              "Surge_Pricing_Type             0\n",
              "dtype: int64"
            ]
          },
          "metadata": {},
          "execution_count": 25
        }
      ]
    },
    {
      "cell_type": "code",
      "metadata": {
        "id": "fxHpN2gBxbCN"
      },
      "source": [
        "# Define function to one-hot-encode the column values\n",
        "def one_hot_encoding(column):\n",
        "     df = pd.get_dummies(column,drop_first=True)\n",
        "     return df"
      ],
      "execution_count": 26,
      "outputs": []
    },
    {
      "cell_type": "code",
      "metadata": {
        "colab": {
          "base_uri": "https://localhost:8080/"
        },
        "id": "wH1pA6b2xoIH",
        "outputId": "697df7f6-022c-4cec-ad68-95810e5309e8"
      },
      "source": [
        "Type_Of_Cab = one_hot_encoding(df[\"Type_of_Cab\"])\n",
        "Confidence_Life_Style_Index = one_hot_encoding(df[\"Confidence_Life_Style_Index\"])\n",
        "Destination_Type = one_hot_encoding(df[\"Destination_Type\"])\n",
        "Gender = one_hot_encoding(df[\"Gender\"])\n",
        "Type_Of_Cab = Type_Of_Cab.rename(columns={'B': 'Type_Of_Cab_B','C': 'Type_Of_Cab_C','D': 'Type_Of_Cab_D','E': 'Type_Of_Cab_E','F': 'Type_Of_Cab_F'})\n",
        "Confidence_Life_Style_Index = Confidence_Life_Style_Index.rename(columns = {\"B\":\"Confidence_Life_Style_Index_B\",\"C\":\"Confidence_Life_Style_Index_C\"})\n",
        "Destination_Type = Destination_Type.rename(columns = {'B':'Destination_Type_B','C':'Destination_Type_C','D':'Destination_Type_D','E':'Destination_Type_E','F':'Destination_Type_F','G':'Destination_Type_G','H':'Destination_Type_H','I':'Destination_Type_I','J':'Destination_Type_J','K':'Destination_Type_K','L':'Destination_Type_L','M':'Destination_Type_M','N':'Destination_Type_N'})\n",
        "print(\"Column names have been updated!\")"
      ],
      "execution_count": 27,
      "outputs": [
        {
          "output_type": "stream",
          "name": "stdout",
          "text": [
            "Column names have been updated!\n"
          ]
        }
      ]
    },
    {
      "cell_type": "code",
      "metadata": {
        "id": "fWOFMOpRyP9c"
      },
      "source": [
        "df_one_hot_encoded = pd.concat([df,Type_Of_Cab,Confidence_Life_Style_Index,Destination_Type,Gender], axis=1)"
      ],
      "execution_count": 28,
      "outputs": []
    },
    {
      "cell_type": "code",
      "metadata": {
        "colab": {
          "base_uri": "https://localhost:8080/",
          "height": 443
        },
        "id": "Wls8xWGsySIN",
        "outputId": "966dec71-8d0d-48cf-db14-21744e25fc06"
      },
      "source": [
        "df_one_hot_encoded"
      ],
      "execution_count": 29,
      "outputs": [
        {
          "output_type": "execute_result",
          "data": {
            "text/html": [
              "<div>\n",
              "<style scoped>\n",
              "    .dataframe tbody tr th:only-of-type {\n",
              "        vertical-align: middle;\n",
              "    }\n",
              "\n",
              "    .dataframe tbody tr th {\n",
              "        vertical-align: top;\n",
              "    }\n",
              "\n",
              "    .dataframe thead th {\n",
              "        text-align: right;\n",
              "    }\n",
              "</style>\n",
              "<table border=\"1\" class=\"dataframe\">\n",
              "  <thead>\n",
              "    <tr style=\"text-align: right;\">\n",
              "      <th></th>\n",
              "      <th>Trip_ID</th>\n",
              "      <th>Trip_Distance</th>\n",
              "      <th>Type_of_Cab</th>\n",
              "      <th>Customer_Since_Months</th>\n",
              "      <th>Life_Style_Index</th>\n",
              "      <th>Confidence_Life_Style_Index</th>\n",
              "      <th>Destination_Type</th>\n",
              "      <th>Customer_Rating</th>\n",
              "      <th>Cancellation_Last_1Month</th>\n",
              "      <th>Var1</th>\n",
              "      <th>Var2</th>\n",
              "      <th>Var3</th>\n",
              "      <th>Gender</th>\n",
              "      <th>Surge_Pricing_Type</th>\n",
              "      <th>Type_Of_Cab_B</th>\n",
              "      <th>Type_Of_Cab_C</th>\n",
              "      <th>Type_Of_Cab_D</th>\n",
              "      <th>Type_Of_Cab_E</th>\n",
              "      <th>Type_Of_Cab_F</th>\n",
              "      <th>Confidence_Life_Style_Index_B</th>\n",
              "      <th>Confidence_Life_Style_Index_C</th>\n",
              "      <th>Destination_Type_B</th>\n",
              "      <th>Destination_Type_C</th>\n",
              "      <th>Destination_Type_D</th>\n",
              "      <th>Destination_Type_E</th>\n",
              "      <th>Destination_Type_F</th>\n",
              "      <th>Destination_Type_G</th>\n",
              "      <th>Destination_Type_H</th>\n",
              "      <th>Destination_Type_I</th>\n",
              "      <th>Destination_Type_J</th>\n",
              "      <th>Destination_Type_K</th>\n",
              "      <th>Destination_Type_L</th>\n",
              "      <th>Destination_Type_M</th>\n",
              "      <th>Destination_Type_N</th>\n",
              "      <th>Male</th>\n",
              "    </tr>\n",
              "  </thead>\n",
              "  <tbody>\n",
              "    <tr>\n",
              "      <th>0</th>\n",
              "      <td>T0005689461</td>\n",
              "      <td>29.47</td>\n",
              "      <td>B</td>\n",
              "      <td>10.0</td>\n",
              "      <td>2.78245</td>\n",
              "      <td>B</td>\n",
              "      <td>A</td>\n",
              "      <td>3.45000</td>\n",
              "      <td>0</td>\n",
              "      <td>38.0</td>\n",
              "      <td>56</td>\n",
              "      <td>78</td>\n",
              "      <td>Male</td>\n",
              "      <td>2</td>\n",
              "      <td>1</td>\n",
              "      <td>0</td>\n",
              "      <td>0</td>\n",
              "      <td>0</td>\n",
              "      <td>0</td>\n",
              "      <td>1</td>\n",
              "      <td>0</td>\n",
              "      <td>0</td>\n",
              "      <td>0</td>\n",
              "      <td>0</td>\n",
              "      <td>0</td>\n",
              "      <td>0</td>\n",
              "      <td>0</td>\n",
              "      <td>0</td>\n",
              "      <td>0</td>\n",
              "      <td>0</td>\n",
              "      <td>0</td>\n",
              "      <td>0</td>\n",
              "      <td>0</td>\n",
              "      <td>0</td>\n",
              "      <td>1</td>\n",
              "    </tr>\n",
              "    <tr>\n",
              "      <th>3</th>\n",
              "      <td>T0005689467</td>\n",
              "      <td>54.95</td>\n",
              "      <td>C</td>\n",
              "      <td>10.0</td>\n",
              "      <td>3.03453</td>\n",
              "      <td>B</td>\n",
              "      <td>A</td>\n",
              "      <td>3.40250</td>\n",
              "      <td>4</td>\n",
              "      <td>51.0</td>\n",
              "      <td>49</td>\n",
              "      <td>102</td>\n",
              "      <td>Male</td>\n",
              "      <td>2</td>\n",
              "      <td>0</td>\n",
              "      <td>1</td>\n",
              "      <td>0</td>\n",
              "      <td>0</td>\n",
              "      <td>0</td>\n",
              "      <td>1</td>\n",
              "      <td>0</td>\n",
              "      <td>0</td>\n",
              "      <td>0</td>\n",
              "      <td>0</td>\n",
              "      <td>0</td>\n",
              "      <td>0</td>\n",
              "      <td>0</td>\n",
              "      <td>0</td>\n",
              "      <td>0</td>\n",
              "      <td>0</td>\n",
              "      <td>0</td>\n",
              "      <td>0</td>\n",
              "      <td>0</td>\n",
              "      <td>0</td>\n",
              "      <td>1</td>\n",
              "    </tr>\n",
              "    <tr>\n",
              "      <th>5</th>\n",
              "      <td>T0005689470</td>\n",
              "      <td>29.72</td>\n",
              "      <td>E</td>\n",
              "      <td>10.0</td>\n",
              "      <td>2.83958</td>\n",
              "      <td>C</td>\n",
              "      <td>B</td>\n",
              "      <td>2.97500</td>\n",
              "      <td>1</td>\n",
              "      <td>83.0</td>\n",
              "      <td>50</td>\n",
              "      <td>75</td>\n",
              "      <td>Male</td>\n",
              "      <td>2</td>\n",
              "      <td>0</td>\n",
              "      <td>0</td>\n",
              "      <td>0</td>\n",
              "      <td>1</td>\n",
              "      <td>0</td>\n",
              "      <td>0</td>\n",
              "      <td>1</td>\n",
              "      <td>1</td>\n",
              "      <td>0</td>\n",
              "      <td>0</td>\n",
              "      <td>0</td>\n",
              "      <td>0</td>\n",
              "      <td>0</td>\n",
              "      <td>0</td>\n",
              "      <td>0</td>\n",
              "      <td>0</td>\n",
              "      <td>0</td>\n",
              "      <td>0</td>\n",
              "      <td>0</td>\n",
              "      <td>0</td>\n",
              "      <td>1</td>\n",
              "    </tr>\n",
              "    <tr>\n",
              "      <th>6</th>\n",
              "      <td>T0005689472</td>\n",
              "      <td>18.44</td>\n",
              "      <td>B</td>\n",
              "      <td>2.0</td>\n",
              "      <td>2.81871</td>\n",
              "      <td>B</td>\n",
              "      <td>A</td>\n",
              "      <td>3.58250</td>\n",
              "      <td>0</td>\n",
              "      <td>103.0</td>\n",
              "      <td>46</td>\n",
              "      <td>63</td>\n",
              "      <td>Male</td>\n",
              "      <td>2</td>\n",
              "      <td>1</td>\n",
              "      <td>0</td>\n",
              "      <td>0</td>\n",
              "      <td>0</td>\n",
              "      <td>0</td>\n",
              "      <td>1</td>\n",
              "      <td>0</td>\n",
              "      <td>0</td>\n",
              "      <td>0</td>\n",
              "      <td>0</td>\n",
              "      <td>0</td>\n",
              "      <td>0</td>\n",
              "      <td>0</td>\n",
              "      <td>0</td>\n",
              "      <td>0</td>\n",
              "      <td>0</td>\n",
              "      <td>0</td>\n",
              "      <td>0</td>\n",
              "      <td>0</td>\n",
              "      <td>0</td>\n",
              "      <td>1</td>\n",
              "    </tr>\n",
              "    <tr>\n",
              "      <th>8</th>\n",
              "      <td>T0005689474</td>\n",
              "      <td>107.19</td>\n",
              "      <td>D</td>\n",
              "      <td>5.0</td>\n",
              "      <td>3.04467</td>\n",
              "      <td>B</td>\n",
              "      <td>A</td>\n",
              "      <td>2.44375</td>\n",
              "      <td>1</td>\n",
              "      <td>64.0</td>\n",
              "      <td>58</td>\n",
              "      <td>83</td>\n",
              "      <td>Male</td>\n",
              "      <td>3</td>\n",
              "      <td>0</td>\n",
              "      <td>0</td>\n",
              "      <td>1</td>\n",
              "      <td>0</td>\n",
              "      <td>0</td>\n",
              "      <td>1</td>\n",
              "      <td>0</td>\n",
              "      <td>0</td>\n",
              "      <td>0</td>\n",
              "      <td>0</td>\n",
              "      <td>0</td>\n",
              "      <td>0</td>\n",
              "      <td>0</td>\n",
              "      <td>0</td>\n",
              "      <td>0</td>\n",
              "      <td>0</td>\n",
              "      <td>0</td>\n",
              "      <td>0</td>\n",
              "      <td>0</td>\n",
              "      <td>0</td>\n",
              "      <td>1</td>\n",
              "    </tr>\n",
              "    <tr>\n",
              "      <th>...</th>\n",
              "      <td>...</td>\n",
              "      <td>...</td>\n",
              "      <td>...</td>\n",
              "      <td>...</td>\n",
              "      <td>...</td>\n",
              "      <td>...</td>\n",
              "      <td>...</td>\n",
              "      <td>...</td>\n",
              "      <td>...</td>\n",
              "      <td>...</td>\n",
              "      <td>...</td>\n",
              "      <td>...</td>\n",
              "      <td>...</td>\n",
              "      <td>...</td>\n",
              "      <td>...</td>\n",
              "      <td>...</td>\n",
              "      <td>...</td>\n",
              "      <td>...</td>\n",
              "      <td>...</td>\n",
              "      <td>...</td>\n",
              "      <td>...</td>\n",
              "      <td>...</td>\n",
              "      <td>...</td>\n",
              "      <td>...</td>\n",
              "      <td>...</td>\n",
              "      <td>...</td>\n",
              "      <td>...</td>\n",
              "      <td>...</td>\n",
              "      <td>...</td>\n",
              "      <td>...</td>\n",
              "      <td>...</td>\n",
              "      <td>...</td>\n",
              "      <td>...</td>\n",
              "      <td>...</td>\n",
              "      <td>...</td>\n",
              "    </tr>\n",
              "    <tr>\n",
              "      <th>109516</th>\n",
              "      <td>T0005908498</td>\n",
              "      <td>20.42</td>\n",
              "      <td>B</td>\n",
              "      <td>3.0</td>\n",
              "      <td>2.59182</td>\n",
              "      <td>C</td>\n",
              "      <td>G</td>\n",
              "      <td>4.79750</td>\n",
              "      <td>1</td>\n",
              "      <td>64.0</td>\n",
              "      <td>45</td>\n",
              "      <td>63</td>\n",
              "      <td>Male</td>\n",
              "      <td>1</td>\n",
              "      <td>1</td>\n",
              "      <td>0</td>\n",
              "      <td>0</td>\n",
              "      <td>0</td>\n",
              "      <td>0</td>\n",
              "      <td>0</td>\n",
              "      <td>1</td>\n",
              "      <td>0</td>\n",
              "      <td>0</td>\n",
              "      <td>0</td>\n",
              "      <td>0</td>\n",
              "      <td>0</td>\n",
              "      <td>1</td>\n",
              "      <td>0</td>\n",
              "      <td>0</td>\n",
              "      <td>0</td>\n",
              "      <td>0</td>\n",
              "      <td>0</td>\n",
              "      <td>0</td>\n",
              "      <td>0</td>\n",
              "      <td>1</td>\n",
              "    </tr>\n",
              "    <tr>\n",
              "      <th>109518</th>\n",
              "      <td>T0005908507</td>\n",
              "      <td>20.18</td>\n",
              "      <td>F</td>\n",
              "      <td>10.0</td>\n",
              "      <td>2.69374</td>\n",
              "      <td>C</td>\n",
              "      <td>F</td>\n",
              "      <td>4.52625</td>\n",
              "      <td>1</td>\n",
              "      <td>48.0</td>\n",
              "      <td>47</td>\n",
              "      <td>62</td>\n",
              "      <td>Female</td>\n",
              "      <td>3</td>\n",
              "      <td>0</td>\n",
              "      <td>0</td>\n",
              "      <td>0</td>\n",
              "      <td>0</td>\n",
              "      <td>1</td>\n",
              "      <td>0</td>\n",
              "      <td>1</td>\n",
              "      <td>0</td>\n",
              "      <td>0</td>\n",
              "      <td>0</td>\n",
              "      <td>0</td>\n",
              "      <td>1</td>\n",
              "      <td>0</td>\n",
              "      <td>0</td>\n",
              "      <td>0</td>\n",
              "      <td>0</td>\n",
              "      <td>0</td>\n",
              "      <td>0</td>\n",
              "      <td>0</td>\n",
              "      <td>0</td>\n",
              "      <td>0</td>\n",
              "    </tr>\n",
              "    <tr>\n",
              "      <th>109519</th>\n",
              "      <td>T0005908509</td>\n",
              "      <td>11.72</td>\n",
              "      <td>D</td>\n",
              "      <td>1.0</td>\n",
              "      <td>2.74229</td>\n",
              "      <td>A</td>\n",
              "      <td>A</td>\n",
              "      <td>3.28500</td>\n",
              "      <td>0</td>\n",
              "      <td>61.0</td>\n",
              "      <td>47</td>\n",
              "      <td>76</td>\n",
              "      <td>Male</td>\n",
              "      <td>3</td>\n",
              "      <td>0</td>\n",
              "      <td>0</td>\n",
              "      <td>1</td>\n",
              "      <td>0</td>\n",
              "      <td>0</td>\n",
              "      <td>0</td>\n",
              "      <td>0</td>\n",
              "      <td>0</td>\n",
              "      <td>0</td>\n",
              "      <td>0</td>\n",
              "      <td>0</td>\n",
              "      <td>0</td>\n",
              "      <td>0</td>\n",
              "      <td>0</td>\n",
              "      <td>0</td>\n",
              "      <td>0</td>\n",
              "      <td>0</td>\n",
              "      <td>0</td>\n",
              "      <td>0</td>\n",
              "      <td>0</td>\n",
              "      <td>1</td>\n",
              "    </tr>\n",
              "    <tr>\n",
              "      <th>109520</th>\n",
              "      <td>T0005908510</td>\n",
              "      <td>74.81</td>\n",
              "      <td>C</td>\n",
              "      <td>7.0</td>\n",
              "      <td>2.81059</td>\n",
              "      <td>C</td>\n",
              "      <td>A</td>\n",
              "      <td>0.44500</td>\n",
              "      <td>0</td>\n",
              "      <td>64.0</td>\n",
              "      <td>63</td>\n",
              "      <td>88</td>\n",
              "      <td>Male</td>\n",
              "      <td>2</td>\n",
              "      <td>0</td>\n",
              "      <td>1</td>\n",
              "      <td>0</td>\n",
              "      <td>0</td>\n",
              "      <td>0</td>\n",
              "      <td>0</td>\n",
              "      <td>1</td>\n",
              "      <td>0</td>\n",
              "      <td>0</td>\n",
              "      <td>0</td>\n",
              "      <td>0</td>\n",
              "      <td>0</td>\n",
              "      <td>0</td>\n",
              "      <td>0</td>\n",
              "      <td>0</td>\n",
              "      <td>0</td>\n",
              "      <td>0</td>\n",
              "      <td>0</td>\n",
              "      <td>0</td>\n",
              "      <td>0</td>\n",
              "      <td>1</td>\n",
              "    </tr>\n",
              "    <tr>\n",
              "      <th>109521</th>\n",
              "      <td>T0005908514</td>\n",
              "      <td>31.96</td>\n",
              "      <td>A</td>\n",
              "      <td>7.0</td>\n",
              "      <td>2.93773</td>\n",
              "      <td>A</td>\n",
              "      <td>E</td>\n",
              "      <td>2.63875</td>\n",
              "      <td>1</td>\n",
              "      <td>102.0</td>\n",
              "      <td>57</td>\n",
              "      <td>85</td>\n",
              "      <td>Male</td>\n",
              "      <td>1</td>\n",
              "      <td>0</td>\n",
              "      <td>0</td>\n",
              "      <td>0</td>\n",
              "      <td>0</td>\n",
              "      <td>0</td>\n",
              "      <td>0</td>\n",
              "      <td>0</td>\n",
              "      <td>0</td>\n",
              "      <td>0</td>\n",
              "      <td>0</td>\n",
              "      <td>1</td>\n",
              "      <td>0</td>\n",
              "      <td>0</td>\n",
              "      <td>0</td>\n",
              "      <td>0</td>\n",
              "      <td>0</td>\n",
              "      <td>0</td>\n",
              "      <td>0</td>\n",
              "      <td>0</td>\n",
              "      <td>0</td>\n",
              "      <td>1</td>\n",
              "    </tr>\n",
              "  </tbody>\n",
              "</table>\n",
              "<p>92672 rows × 35 columns</p>\n",
              "</div>"
            ],
            "text/plain": [
              "            Trip_ID  Trip_Distance  ... Destination_Type_N  Male\n",
              "0       T0005689461          29.47  ...                  0     1\n",
              "3       T0005689467          54.95  ...                  0     1\n",
              "5       T0005689470          29.72  ...                  0     1\n",
              "6       T0005689472          18.44  ...                  0     1\n",
              "8       T0005689474         107.19  ...                  0     1\n",
              "...             ...            ...  ...                ...   ...\n",
              "109516  T0005908498          20.42  ...                  0     1\n",
              "109518  T0005908507          20.18  ...                  0     0\n",
              "109519  T0005908509          11.72  ...                  0     1\n",
              "109520  T0005908510          74.81  ...                  0     1\n",
              "109521  T0005908514          31.96  ...                  0     1\n",
              "\n",
              "[92672 rows x 35 columns]"
            ]
          },
          "metadata": {},
          "execution_count": 29
        }
      ]
    },
    {
      "cell_type": "code",
      "metadata": {
        "id": "PHayh4PGymmp"
      },
      "source": [
        "cols_to_drop = [\"Trip_ID\",\"Type_of_Cab\",\"Confidence_Life_Style_Index\",\"Destination_Type\",\"Gender\"]\n",
        "df_final = df_one_hot_encoded.drop(cols_to_drop,axis = 1)"
      ],
      "execution_count": 30,
      "outputs": []
    },
    {
      "cell_type": "code",
      "metadata": {
        "id": "BhKbK7YCy5G3"
      },
      "source": [
        "cols_to_be_normalized = ['Trip_Distance', 'Customer_Since_Months', 'Life_Style_Index','Customer_Rating', 'Cancellation_Last_1Month', 'Var1', 'Var2', 'Var3']\n",
        "cols_not_to_be_normalized = ['Type_Of_Cab_B', 'Type_Of_Cab_C', 'Type_Of_Cab_D', 'Type_Of_Cab_E','Type_Of_Cab_F', \n",
        "                            'Confidence_Life_Style_Index_B','Confidence_Life_Style_Index_C', 'Destination_Type_B',\n",
        "                            'Destination_Type_C', 'Destination_Type_D', 'Destination_Type_E',\n",
        "                            'Destination_Type_F', 'Destination_Type_G', 'Destination_Type_H',\n",
        "                            'Destination_Type_I', 'Destination_Type_J', 'Destination_Type_K',\n",
        "                            'Destination_Type_L', 'Destination_Type_M', 'Destination_Type_N',\n",
        "                            'Male','Surge_Pricing_Type']"
      ],
      "execution_count": 31,
      "outputs": []
    },
    {
      "cell_type": "code",
      "metadata": {
        "id": "ElHwkNJey5Jx"
      },
      "source": [
        "normalize = normalize(df_final[cols_to_be_normalized])\n",
        "normalize = pd.DataFrame(normalize,columns=cols_to_be_normalized)\n",
        "binarized = df_final[cols_not_to_be_normalized].reset_index(drop = True)\n",
        "df_final =  pd.concat([normalize,binarized], axis=1)"
      ],
      "execution_count": 32,
      "outputs": []
    },
    {
      "cell_type": "code",
      "metadata": {
        "colab": {
          "base_uri": "https://localhost:8080/",
          "height": 443
        },
        "id": "Zyona4RXy5NH",
        "outputId": "6df575fe-668d-4cac-a47a-e24600381e87"
      },
      "source": [
        "df_final"
      ],
      "execution_count": 33,
      "outputs": [
        {
          "output_type": "execute_result",
          "data": {
            "text/html": [
              "<div>\n",
              "<style scoped>\n",
              "    .dataframe tbody tr th:only-of-type {\n",
              "        vertical-align: middle;\n",
              "    }\n",
              "\n",
              "    .dataframe tbody tr th {\n",
              "        vertical-align: top;\n",
              "    }\n",
              "\n",
              "    .dataframe thead th {\n",
              "        text-align: right;\n",
              "    }\n",
              "</style>\n",
              "<table border=\"1\" class=\"dataframe\">\n",
              "  <thead>\n",
              "    <tr style=\"text-align: right;\">\n",
              "      <th></th>\n",
              "      <th>Trip_Distance</th>\n",
              "      <th>Customer_Since_Months</th>\n",
              "      <th>Life_Style_Index</th>\n",
              "      <th>Customer_Rating</th>\n",
              "      <th>Cancellation_Last_1Month</th>\n",
              "      <th>Var1</th>\n",
              "      <th>Var2</th>\n",
              "      <th>Var3</th>\n",
              "      <th>Type_Of_Cab_B</th>\n",
              "      <th>Type_Of_Cab_C</th>\n",
              "      <th>Type_Of_Cab_D</th>\n",
              "      <th>Type_Of_Cab_E</th>\n",
              "      <th>Type_Of_Cab_F</th>\n",
              "      <th>Confidence_Life_Style_Index_B</th>\n",
              "      <th>Confidence_Life_Style_Index_C</th>\n",
              "      <th>Destination_Type_B</th>\n",
              "      <th>Destination_Type_C</th>\n",
              "      <th>Destination_Type_D</th>\n",
              "      <th>Destination_Type_E</th>\n",
              "      <th>Destination_Type_F</th>\n",
              "      <th>Destination_Type_G</th>\n",
              "      <th>Destination_Type_H</th>\n",
              "      <th>Destination_Type_I</th>\n",
              "      <th>Destination_Type_J</th>\n",
              "      <th>Destination_Type_K</th>\n",
              "      <th>Destination_Type_L</th>\n",
              "      <th>Destination_Type_M</th>\n",
              "      <th>Destination_Type_N</th>\n",
              "      <th>Male</th>\n",
              "      <th>Surge_Pricing_Type</th>\n",
              "    </tr>\n",
              "  </thead>\n",
              "  <tbody>\n",
              "    <tr>\n",
              "      <th>0</th>\n",
              "      <td>0.273009</td>\n",
              "      <td>0.092640</td>\n",
              "      <td>0.025777</td>\n",
              "      <td>0.031961</td>\n",
              "      <td>0.000000</td>\n",
              "      <td>0.352031</td>\n",
              "      <td>0.518783</td>\n",
              "      <td>0.722590</td>\n",
              "      <td>1</td>\n",
              "      <td>0</td>\n",
              "      <td>0</td>\n",
              "      <td>0</td>\n",
              "      <td>0</td>\n",
              "      <td>1</td>\n",
              "      <td>0</td>\n",
              "      <td>0</td>\n",
              "      <td>0</td>\n",
              "      <td>0</td>\n",
              "      <td>0</td>\n",
              "      <td>0</td>\n",
              "      <td>0</td>\n",
              "      <td>0</td>\n",
              "      <td>0</td>\n",
              "      <td>0</td>\n",
              "      <td>0</td>\n",
              "      <td>0</td>\n",
              "      <td>0</td>\n",
              "      <td>0</td>\n",
              "      <td>1</td>\n",
              "      <td>2</td>\n",
              "    </tr>\n",
              "    <tr>\n",
              "      <th>1</th>\n",
              "      <td>0.403322</td>\n",
              "      <td>0.073398</td>\n",
              "      <td>0.022273</td>\n",
              "      <td>0.024974</td>\n",
              "      <td>0.029359</td>\n",
              "      <td>0.374330</td>\n",
              "      <td>0.359650</td>\n",
              "      <td>0.748660</td>\n",
              "      <td>0</td>\n",
              "      <td>1</td>\n",
              "      <td>0</td>\n",
              "      <td>0</td>\n",
              "      <td>0</td>\n",
              "      <td>1</td>\n",
              "      <td>0</td>\n",
              "      <td>0</td>\n",
              "      <td>0</td>\n",
              "      <td>0</td>\n",
              "      <td>0</td>\n",
              "      <td>0</td>\n",
              "      <td>0</td>\n",
              "      <td>0</td>\n",
              "      <td>0</td>\n",
              "      <td>0</td>\n",
              "      <td>0</td>\n",
              "      <td>0</td>\n",
              "      <td>0</td>\n",
              "      <td>0</td>\n",
              "      <td>1</td>\n",
              "      <td>2</td>\n",
              "    </tr>\n",
              "    <tr>\n",
              "      <th>2</th>\n",
              "      <td>0.234846</td>\n",
              "      <td>0.079019</td>\n",
              "      <td>0.022438</td>\n",
              "      <td>0.023508</td>\n",
              "      <td>0.007902</td>\n",
              "      <td>0.655861</td>\n",
              "      <td>0.395097</td>\n",
              "      <td>0.592646</td>\n",
              "      <td>0</td>\n",
              "      <td>0</td>\n",
              "      <td>0</td>\n",
              "      <td>1</td>\n",
              "      <td>0</td>\n",
              "      <td>0</td>\n",
              "      <td>1</td>\n",
              "      <td>1</td>\n",
              "      <td>0</td>\n",
              "      <td>0</td>\n",
              "      <td>0</td>\n",
              "      <td>0</td>\n",
              "      <td>0</td>\n",
              "      <td>0</td>\n",
              "      <td>0</td>\n",
              "      <td>0</td>\n",
              "      <td>0</td>\n",
              "      <td>0</td>\n",
              "      <td>0</td>\n",
              "      <td>0</td>\n",
              "      <td>1</td>\n",
              "      <td>2</td>\n",
              "    </tr>\n",
              "    <tr>\n",
              "      <th>3</th>\n",
              "      <td>0.141184</td>\n",
              "      <td>0.015313</td>\n",
              "      <td>0.021581</td>\n",
              "      <td>0.027429</td>\n",
              "      <td>0.000000</td>\n",
              "      <td>0.788611</td>\n",
              "      <td>0.352195</td>\n",
              "      <td>0.482354</td>\n",
              "      <td>1</td>\n",
              "      <td>0</td>\n",
              "      <td>0</td>\n",
              "      <td>0</td>\n",
              "      <td>0</td>\n",
              "      <td>1</td>\n",
              "      <td>0</td>\n",
              "      <td>0</td>\n",
              "      <td>0</td>\n",
              "      <td>0</td>\n",
              "      <td>0</td>\n",
              "      <td>0</td>\n",
              "      <td>0</td>\n",
              "      <td>0</td>\n",
              "      <td>0</td>\n",
              "      <td>0</td>\n",
              "      <td>0</td>\n",
              "      <td>0</td>\n",
              "      <td>0</td>\n",
              "      <td>0</td>\n",
              "      <td>1</td>\n",
              "      <td>2</td>\n",
              "    </tr>\n",
              "    <tr>\n",
              "      <th>4</th>\n",
              "      <td>0.666304</td>\n",
              "      <td>0.031081</td>\n",
              "      <td>0.018926</td>\n",
              "      <td>0.015191</td>\n",
              "      <td>0.006216</td>\n",
              "      <td>0.397831</td>\n",
              "      <td>0.360534</td>\n",
              "      <td>0.515937</td>\n",
              "      <td>0</td>\n",
              "      <td>0</td>\n",
              "      <td>1</td>\n",
              "      <td>0</td>\n",
              "      <td>0</td>\n",
              "      <td>1</td>\n",
              "      <td>0</td>\n",
              "      <td>0</td>\n",
              "      <td>0</td>\n",
              "      <td>0</td>\n",
              "      <td>0</td>\n",
              "      <td>0</td>\n",
              "      <td>0</td>\n",
              "      <td>0</td>\n",
              "      <td>0</td>\n",
              "      <td>0</td>\n",
              "      <td>0</td>\n",
              "      <td>0</td>\n",
              "      <td>0</td>\n",
              "      <td>0</td>\n",
              "      <td>1</td>\n",
              "      <td>3</td>\n",
              "    </tr>\n",
              "    <tr>\n",
              "      <th>...</th>\n",
              "      <td>...</td>\n",
              "      <td>...</td>\n",
              "      <td>...</td>\n",
              "      <td>...</td>\n",
              "      <td>...</td>\n",
              "      <td>...</td>\n",
              "      <td>...</td>\n",
              "      <td>...</td>\n",
              "      <td>...</td>\n",
              "      <td>...</td>\n",
              "      <td>...</td>\n",
              "      <td>...</td>\n",
              "      <td>...</td>\n",
              "      <td>...</td>\n",
              "      <td>...</td>\n",
              "      <td>...</td>\n",
              "      <td>...</td>\n",
              "      <td>...</td>\n",
              "      <td>...</td>\n",
              "      <td>...</td>\n",
              "      <td>...</td>\n",
              "      <td>...</td>\n",
              "      <td>...</td>\n",
              "      <td>...</td>\n",
              "      <td>...</td>\n",
              "      <td>...</td>\n",
              "      <td>...</td>\n",
              "      <td>...</td>\n",
              "      <td>...</td>\n",
              "      <td>...</td>\n",
              "    </tr>\n",
              "    <tr>\n",
              "      <th>92667</th>\n",
              "      <td>0.198837</td>\n",
              "      <td>0.029212</td>\n",
              "      <td>0.025238</td>\n",
              "      <td>0.046715</td>\n",
              "      <td>0.009737</td>\n",
              "      <td>0.623191</td>\n",
              "      <td>0.438181</td>\n",
              "      <td>0.613454</td>\n",
              "      <td>1</td>\n",
              "      <td>0</td>\n",
              "      <td>0</td>\n",
              "      <td>0</td>\n",
              "      <td>0</td>\n",
              "      <td>0</td>\n",
              "      <td>1</td>\n",
              "      <td>0</td>\n",
              "      <td>0</td>\n",
              "      <td>0</td>\n",
              "      <td>0</td>\n",
              "      <td>0</td>\n",
              "      <td>1</td>\n",
              "      <td>0</td>\n",
              "      <td>0</td>\n",
              "      <td>0</td>\n",
              "      <td>0</td>\n",
              "      <td>0</td>\n",
              "      <td>0</td>\n",
              "      <td>0</td>\n",
              "      <td>1</td>\n",
              "      <td>1</td>\n",
              "    </tr>\n",
              "    <tr>\n",
              "      <th>92668</th>\n",
              "      <td>0.213992</td>\n",
              "      <td>0.106042</td>\n",
              "      <td>0.028565</td>\n",
              "      <td>0.047997</td>\n",
              "      <td>0.010604</td>\n",
              "      <td>0.509000</td>\n",
              "      <td>0.498396</td>\n",
              "      <td>0.657458</td>\n",
              "      <td>0</td>\n",
              "      <td>0</td>\n",
              "      <td>0</td>\n",
              "      <td>0</td>\n",
              "      <td>1</td>\n",
              "      <td>0</td>\n",
              "      <td>1</td>\n",
              "      <td>0</td>\n",
              "      <td>0</td>\n",
              "      <td>0</td>\n",
              "      <td>0</td>\n",
              "      <td>1</td>\n",
              "      <td>0</td>\n",
              "      <td>0</td>\n",
              "      <td>0</td>\n",
              "      <td>0</td>\n",
              "      <td>0</td>\n",
              "      <td>0</td>\n",
              "      <td>0</td>\n",
              "      <td>0</td>\n",
              "      <td>0</td>\n",
              "      <td>3</td>\n",
              "    </tr>\n",
              "    <tr>\n",
              "      <th>92669</th>\n",
              "      <td>0.107606</td>\n",
              "      <td>0.009181</td>\n",
              "      <td>0.025178</td>\n",
              "      <td>0.030161</td>\n",
              "      <td>0.000000</td>\n",
              "      <td>0.560065</td>\n",
              "      <td>0.431526</td>\n",
              "      <td>0.697786</td>\n",
              "      <td>0</td>\n",
              "      <td>0</td>\n",
              "      <td>1</td>\n",
              "      <td>0</td>\n",
              "      <td>0</td>\n",
              "      <td>0</td>\n",
              "      <td>0</td>\n",
              "      <td>0</td>\n",
              "      <td>0</td>\n",
              "      <td>0</td>\n",
              "      <td>0</td>\n",
              "      <td>0</td>\n",
              "      <td>0</td>\n",
              "      <td>0</td>\n",
              "      <td>0</td>\n",
              "      <td>0</td>\n",
              "      <td>0</td>\n",
              "      <td>0</td>\n",
              "      <td>0</td>\n",
              "      <td>0</td>\n",
              "      <td>1</td>\n",
              "      <td>3</td>\n",
              "    </tr>\n",
              "    <tr>\n",
              "      <th>92670</th>\n",
              "      <td>0.510644</td>\n",
              "      <td>0.047781</td>\n",
              "      <td>0.019185</td>\n",
              "      <td>0.003038</td>\n",
              "      <td>0.000000</td>\n",
              "      <td>0.436856</td>\n",
              "      <td>0.430030</td>\n",
              "      <td>0.600677</td>\n",
              "      <td>0</td>\n",
              "      <td>1</td>\n",
              "      <td>0</td>\n",
              "      <td>0</td>\n",
              "      <td>0</td>\n",
              "      <td>0</td>\n",
              "      <td>1</td>\n",
              "      <td>0</td>\n",
              "      <td>0</td>\n",
              "      <td>0</td>\n",
              "      <td>0</td>\n",
              "      <td>0</td>\n",
              "      <td>0</td>\n",
              "      <td>0</td>\n",
              "      <td>0</td>\n",
              "      <td>0</td>\n",
              "      <td>0</td>\n",
              "      <td>0</td>\n",
              "      <td>0</td>\n",
              "      <td>0</td>\n",
              "      <td>1</td>\n",
              "      <td>2</td>\n",
              "    </tr>\n",
              "    <tr>\n",
              "      <th>92671</th>\n",
              "      <td>0.215646</td>\n",
              "      <td>0.047232</td>\n",
              "      <td>0.019822</td>\n",
              "      <td>0.017805</td>\n",
              "      <td>0.006747</td>\n",
              "      <td>0.688231</td>\n",
              "      <td>0.384600</td>\n",
              "      <td>0.573526</td>\n",
              "      <td>0</td>\n",
              "      <td>0</td>\n",
              "      <td>0</td>\n",
              "      <td>0</td>\n",
              "      <td>0</td>\n",
              "      <td>0</td>\n",
              "      <td>0</td>\n",
              "      <td>0</td>\n",
              "      <td>0</td>\n",
              "      <td>0</td>\n",
              "      <td>1</td>\n",
              "      <td>0</td>\n",
              "      <td>0</td>\n",
              "      <td>0</td>\n",
              "      <td>0</td>\n",
              "      <td>0</td>\n",
              "      <td>0</td>\n",
              "      <td>0</td>\n",
              "      <td>0</td>\n",
              "      <td>0</td>\n",
              "      <td>1</td>\n",
              "      <td>1</td>\n",
              "    </tr>\n",
              "  </tbody>\n",
              "</table>\n",
              "<p>92672 rows × 30 columns</p>\n",
              "</div>"
            ],
            "text/plain": [
              "       Trip_Distance  Customer_Since_Months  ...  Male  Surge_Pricing_Type\n",
              "0           0.273009               0.092640  ...     1                   2\n",
              "1           0.403322               0.073398  ...     1                   2\n",
              "2           0.234846               0.079019  ...     1                   2\n",
              "3           0.141184               0.015313  ...     1                   2\n",
              "4           0.666304               0.031081  ...     1                   3\n",
              "...              ...                    ...  ...   ...                 ...\n",
              "92667       0.198837               0.029212  ...     1                   1\n",
              "92668       0.213992               0.106042  ...     0                   3\n",
              "92669       0.107606               0.009181  ...     1                   3\n",
              "92670       0.510644               0.047781  ...     1                   2\n",
              "92671       0.215646               0.047232  ...     1                   1\n",
              "\n",
              "[92672 rows x 30 columns]"
            ]
          },
          "metadata": {},
          "execution_count": 33
        }
      ]
    },
    {
      "cell_type": "markdown",
      "metadata": {
        "id": "s_KUE_0AzTpD"
      },
      "source": [
        "# Data Splitting"
      ]
    },
    {
      "cell_type": "code",
      "metadata": {
        "id": "i8c0ys3azWqD"
      },
      "source": [
        "X = df_final.drop(\"Surge_Pricing_Type\",axis = 1)\n",
        "Y = df_final[\"Surge_Pricing_Type\"] "
      ],
      "execution_count": 34,
      "outputs": []
    },
    {
      "cell_type": "code",
      "metadata": {
        "id": "4RG_AuL7zal7"
      },
      "source": [
        "X_train,X_test,Y_train,Y_test = train_test_split(X,Y,random_state=8,test_size=0.3,stratify=Y)"
      ],
      "execution_count": 35,
      "outputs": []
    },
    {
      "cell_type": "code",
      "metadata": {
        "colab": {
          "base_uri": "https://localhost:8080/"
        },
        "id": "f1U9OaLgzgAB",
        "outputId": "7831daa0-9d6d-4205-991f-afda0e8fc0e0"
      },
      "source": [
        "print(X_train.shape, Y_train.shape)"
      ],
      "execution_count": 36,
      "outputs": [
        {
          "output_type": "stream",
          "name": "stdout",
          "text": [
            "(64870, 29) (64870,)\n"
          ]
        }
      ]
    },
    {
      "cell_type": "code",
      "metadata": {
        "colab": {
          "base_uri": "https://localhost:8080/"
        },
        "id": "bW8D0rMIznaj",
        "outputId": "2e800590-d2ea-4ba6-9d62-9559c2bb91ef"
      },
      "source": [
        "print(X_test.shape, Y_test.shape)"
      ],
      "execution_count": 37,
      "outputs": [
        {
          "output_type": "stream",
          "name": "stdout",
          "text": [
            "(27802, 29) (27802,)\n"
          ]
        }
      ]
    },
    {
      "cell_type": "markdown",
      "metadata": {
        "id": "fiC5jCokz30a"
      },
      "source": [
        "# Model Building and Training\n"
      ]
    },
    {
      "cell_type": "code",
      "metadata": {
        "colab": {
          "base_uri": "https://localhost:8080/"
        },
        "id": "7Okpiylvzzho",
        "outputId": "7bd4209a-448e-4c54-d44a-00d49d1f3239"
      },
      "source": [
        "log_model = LogisticRegression()\n",
        "log_model.fit(X_train,Y_train)"
      ],
      "execution_count": 38,
      "outputs": [
        {
          "output_type": "execute_result",
          "data": {
            "text/plain": [
              "LogisticRegression(C=1.0, class_weight=None, dual=False, fit_intercept=True,\n",
              "                   intercept_scaling=1, l1_ratio=None, max_iter=100,\n",
              "                   multi_class='auto', n_jobs=None, penalty='l2',\n",
              "                   random_state=None, solver='lbfgs', tol=0.0001, verbose=0,\n",
              "                   warm_start=False)"
            ]
          },
          "metadata": {},
          "execution_count": 38
        }
      ]
    },
    {
      "cell_type": "code",
      "metadata": {
        "id": "wfeGlwwozzkj"
      },
      "source": [
        "Y_pred = log_model.predict(X_test)"
      ],
      "execution_count": 39,
      "outputs": []
    },
    {
      "cell_type": "code",
      "metadata": {
        "colab": {
          "base_uri": "https://localhost:8080/"
        },
        "id": "KfaHb6Ec0EdR",
        "outputId": "4c6bd923-f110-4a07-b8d5-2e07d282cf37"
      },
      "source": [
        "accuracy_score(Y_test,Y_pred)"
      ],
      "execution_count": 40,
      "outputs": [
        {
          "output_type": "execute_result",
          "data": {
            "text/plain": [
              "0.6864254370189194"
            ]
          },
          "metadata": {},
          "execution_count": 40
        }
      ]
    },
    {
      "cell_type": "code",
      "metadata": {
        "colab": {
          "base_uri": "https://localhost:8080/"
        },
        "id": "l8Nmu0930GbM",
        "outputId": "97061e09-957e-4642-90ce-9c6f31a9af91"
      },
      "source": [
        "print(classification_report(Y_test,Y_pred))"
      ],
      "execution_count": 41,
      "outputs": [
        {
          "output_type": "stream",
          "name": "stdout",
          "text": [
            "              precision    recall  f1-score   support\n",
            "\n",
            "           1       0.72      0.54      0.62      5754\n",
            "           2       0.66      0.79      0.72     12001\n",
            "           3       0.71      0.64      0.67     10047\n",
            "\n",
            "    accuracy                           0.69     27802\n",
            "   macro avg       0.70      0.66      0.67     27802\n",
            "weighted avg       0.69      0.69      0.68     27802\n",
            "\n"
          ]
        }
      ]
    },
    {
      "cell_type": "code",
      "metadata": {
        "id": "mipCZQhx0XLM"
      },
      "source": [
        "rf_model = RandomForestClassifier(n_jobs=1,random_state=42)"
      ],
      "execution_count": 42,
      "outputs": []
    },
    {
      "cell_type": "code",
      "metadata": {
        "colab": {
          "base_uri": "https://localhost:8080/"
        },
        "id": "3on5MCTw1KhH",
        "outputId": "fa64da62-4872-4748-adaa-36cf7c7557b7"
      },
      "source": [
        "rf_model.fit(X_train,Y_train)"
      ],
      "execution_count": 43,
      "outputs": [
        {
          "output_type": "execute_result",
          "data": {
            "text/plain": [
              "RandomForestClassifier(bootstrap=True, ccp_alpha=0.0, class_weight=None,\n",
              "                       criterion='gini', max_depth=None, max_features='auto',\n",
              "                       max_leaf_nodes=None, max_samples=None,\n",
              "                       min_impurity_decrease=0.0, min_impurity_split=None,\n",
              "                       min_samples_leaf=1, min_samples_split=2,\n",
              "                       min_weight_fraction_leaf=0.0, n_estimators=100, n_jobs=1,\n",
              "                       oob_score=False, random_state=42, verbose=0,\n",
              "                       warm_start=False)"
            ]
          },
          "metadata": {},
          "execution_count": 43
        }
      ]
    },
    {
      "cell_type": "code",
      "metadata": {
        "id": "2qgZ_K8i1ObF"
      },
      "source": [
        "Y_pred = rf_model.predict(X_test)"
      ],
      "execution_count": 44,
      "outputs": []
    },
    {
      "cell_type": "code",
      "metadata": {
        "colab": {
          "base_uri": "https://localhost:8080/"
        },
        "id": "tlc-rX221Ygy",
        "outputId": "5fdb8645-1cfa-423d-bd23-ed54d75a6a53"
      },
      "source": [
        "accuracy_score(Y_test,Y_pred)"
      ],
      "execution_count": 45,
      "outputs": [
        {
          "output_type": "execute_result",
          "data": {
            "text/plain": [
              "0.6887633983166679"
            ]
          },
          "metadata": {},
          "execution_count": 45
        }
      ]
    },
    {
      "cell_type": "code",
      "metadata": {
        "colab": {
          "base_uri": "https://localhost:8080/"
        },
        "id": "PeLodFx21cG7",
        "outputId": "675a2a15-3c8f-47a2-d7cb-39275d0df709"
      },
      "source": [
        "print(classification_report(Y_test,Y_pred))"
      ],
      "execution_count": 46,
      "outputs": [
        {
          "output_type": "stream",
          "name": "stdout",
          "text": [
            "              precision    recall  f1-score   support\n",
            "\n",
            "           1       0.73      0.55      0.63      5754\n",
            "           2       0.67      0.77      0.72     12001\n",
            "           3       0.70      0.67      0.68     10047\n",
            "\n",
            "    accuracy                           0.69     27802\n",
            "   macro avg       0.70      0.66      0.68     27802\n",
            "weighted avg       0.69      0.69      0.69     27802\n",
            "\n"
          ]
        }
      ]
    },
    {
      "cell_type": "code",
      "metadata": {
        "id": "B4PNNiYj1gfL"
      },
      "source": [
        "XGB_model = XGBClassifier()"
      ],
      "execution_count": 47,
      "outputs": []
    },
    {
      "cell_type": "code",
      "metadata": {
        "colab": {
          "base_uri": "https://localhost:8080/"
        },
        "id": "T1X7He5P1jdq",
        "outputId": "1a85f821-a4bd-4f1c-eab8-412dce01e18f"
      },
      "source": [
        "XGB_model.fit(X_train, Y_train)"
      ],
      "execution_count": 48,
      "outputs": [
        {
          "output_type": "execute_result",
          "data": {
            "text/plain": [
              "XGBClassifier(base_score=0.5, booster='gbtree', colsample_bylevel=1,\n",
              "              colsample_bynode=1, colsample_bytree=1, gamma=0,\n",
              "              learning_rate=0.1, max_delta_step=0, max_depth=3,\n",
              "              min_child_weight=1, missing=None, n_estimators=100, n_jobs=1,\n",
              "              nthread=None, objective='multi:softprob', random_state=0,\n",
              "              reg_alpha=0, reg_lambda=1, scale_pos_weight=1, seed=None,\n",
              "              silent=None, subsample=1, verbosity=1)"
            ]
          },
          "metadata": {},
          "execution_count": 48
        }
      ]
    },
    {
      "cell_type": "code",
      "metadata": {
        "id": "OUAcmoq71nJz"
      },
      "source": [
        "Y_pred = XGB_model.predict(X_test)"
      ],
      "execution_count": 49,
      "outputs": []
    },
    {
      "cell_type": "code",
      "metadata": {
        "colab": {
          "base_uri": "https://localhost:8080/"
        },
        "id": "zhGzAIAe1v4H",
        "outputId": "bb4501a4-ec3b-450e-af70-d38c3c091906"
      },
      "source": [
        "accuracy_score(Y_pred,Y_test)"
      ],
      "execution_count": 50,
      "outputs": [
        {
          "output_type": "execute_result",
          "data": {
            "text/plain": [
              "0.6904179555427667"
            ]
          },
          "metadata": {},
          "execution_count": 50
        }
      ]
    },
    {
      "cell_type": "code",
      "metadata": {
        "colab": {
          "base_uri": "https://localhost:8080/"
        },
        "id": "kTSQYdgf104q",
        "outputId": "e58010b6-2368-4021-fb85-455cff277f70"
      },
      "source": [
        "print(classification_report(Y_test,Y_pred))"
      ],
      "execution_count": 51,
      "outputs": [
        {
          "output_type": "stream",
          "name": "stdout",
          "text": [
            "              precision    recall  f1-score   support\n",
            "\n",
            "           1       0.76      0.52      0.62      5754\n",
            "           2       0.66      0.80      0.72     12001\n",
            "           3       0.71      0.66      0.68     10047\n",
            "\n",
            "    accuracy                           0.69     27802\n",
            "   macro avg       0.71      0.66      0.67     27802\n",
            "weighted avg       0.70      0.69      0.69     27802\n",
            "\n"
          ]
        }
      ]
    },
    {
      "cell_type": "markdown",
      "metadata": {
        "id": "6QeDlc8K38cL"
      },
      "source": [
        "# Model Evaluation\n"
      ]
    },
    {
      "cell_type": "markdown",
      "metadata": {
        "id": "_2SPEi_64UiH"
      },
      "source": [
        "The three main metrics used to evaluate a classification model are accuracy, precision, and recall. From the above the models used for classification, XGBoost performs the best."
      ]
    }
  ]
}